{
  "nbformat": 4,
  "nbformat_minor": 0,
  "metadata": {
    "colab": {
      "name": "Text Classification with RNN.ipynb",
      "provenance": [],
      "collapsed_sections": [],
      "authorship_tag": "ABX9TyNz88rjT1nQltQLv06e3V/t",
      "include_colab_link": true
    },
    "kernelspec": {
      "display_name": "Python 3",
      "name": "python3"
    },
    "widgets": {
      "application/vnd.jupyter.widget-state+json": {
        "9c9e0e41a7ef4aff8d75ed56a03f19f3": {
          "model_module": "@jupyter-widgets/controls",
          "model_name": "HBoxModel",
          "state": {
            "_dom_classes": [],
            "_model_module": "@jupyter-widgets/controls",
            "_model_module_version": "1.5.0",
            "_model_name": "HBoxModel",
            "_view_count": null,
            "_view_module": "@jupyter-widgets/controls",
            "_view_module_version": "1.5.0",
            "_view_name": "HBoxView",
            "box_style": "",
            "children": [
              "IPY_MODEL_0af1f35a80dc478aa5b95160a8651ca6",
              "IPY_MODEL_1d2e3f49a44345f7b79f74816be1ee6f"
            ],
            "layout": "IPY_MODEL_5cb886f105bc4882b88ebc974c3c490f"
          }
        },
        "0af1f35a80dc478aa5b95160a8651ca6": {
          "model_module": "@jupyter-widgets/controls",
          "model_name": "FloatProgressModel",
          "state": {
            "_dom_classes": [],
            "_model_module": "@jupyter-widgets/controls",
            "_model_module_version": "1.5.0",
            "_model_name": "FloatProgressModel",
            "_view_count": null,
            "_view_module": "@jupyter-widgets/controls",
            "_view_module_version": "1.5.0",
            "_view_name": "ProgressView",
            "bar_style": "success",
            "description": "Dl Completed...: 100%",
            "description_tooltip": null,
            "layout": "IPY_MODEL_5aa5d9698a64467798e913ee03aa489c",
            "max": 1,
            "min": 0,
            "orientation": "horizontal",
            "style": "IPY_MODEL_8f8ec2aa4c2f441e8f12f31f6c90271a",
            "value": 1
          }
        },
        "1d2e3f49a44345f7b79f74816be1ee6f": {
          "model_module": "@jupyter-widgets/controls",
          "model_name": "HTMLModel",
          "state": {
            "_dom_classes": [],
            "_model_module": "@jupyter-widgets/controls",
            "_model_module_version": "1.5.0",
            "_model_name": "HTMLModel",
            "_view_count": null,
            "_view_module": "@jupyter-widgets/controls",
            "_view_module_version": "1.5.0",
            "_view_name": "HTMLView",
            "description": "",
            "description_tooltip": null,
            "layout": "IPY_MODEL_5ff4cc34195046bea8c5d0bbdc4608a5",
            "placeholder": "​",
            "style": "IPY_MODEL_443a0f0b08884a42a6c3c59b91f020a5",
            "value": " 1/1 [00:01&lt;00:00,  1.75s/ url]"
          }
        },
        "5cb886f105bc4882b88ebc974c3c490f": {
          "model_module": "@jupyter-widgets/base",
          "model_name": "LayoutModel",
          "state": {
            "_model_module": "@jupyter-widgets/base",
            "_model_module_version": "1.2.0",
            "_model_name": "LayoutModel",
            "_view_count": null,
            "_view_module": "@jupyter-widgets/base",
            "_view_module_version": "1.2.0",
            "_view_name": "LayoutView",
            "align_content": null,
            "align_items": null,
            "align_self": null,
            "border": null,
            "bottom": null,
            "display": null,
            "flex": null,
            "flex_flow": null,
            "grid_area": null,
            "grid_auto_columns": null,
            "grid_auto_flow": null,
            "grid_auto_rows": null,
            "grid_column": null,
            "grid_gap": null,
            "grid_row": null,
            "grid_template_areas": null,
            "grid_template_columns": null,
            "grid_template_rows": null,
            "height": null,
            "justify_content": null,
            "justify_items": null,
            "left": null,
            "margin": null,
            "max_height": null,
            "max_width": null,
            "min_height": null,
            "min_width": null,
            "object_fit": null,
            "object_position": null,
            "order": null,
            "overflow": null,
            "overflow_x": null,
            "overflow_y": null,
            "padding": null,
            "right": null,
            "top": null,
            "visibility": null,
            "width": null
          }
        },
        "5aa5d9698a64467798e913ee03aa489c": {
          "model_module": "@jupyter-widgets/base",
          "model_name": "LayoutModel",
          "state": {
            "_model_module": "@jupyter-widgets/base",
            "_model_module_version": "1.2.0",
            "_model_name": "LayoutModel",
            "_view_count": null,
            "_view_module": "@jupyter-widgets/base",
            "_view_module_version": "1.2.0",
            "_view_name": "LayoutView",
            "align_content": null,
            "align_items": null,
            "align_self": null,
            "border": null,
            "bottom": null,
            "display": null,
            "flex": null,
            "flex_flow": null,
            "grid_area": null,
            "grid_auto_columns": null,
            "grid_auto_flow": null,
            "grid_auto_rows": null,
            "grid_column": null,
            "grid_gap": null,
            "grid_row": null,
            "grid_template_areas": null,
            "grid_template_columns": null,
            "grid_template_rows": null,
            "height": null,
            "justify_content": null,
            "justify_items": null,
            "left": null,
            "margin": null,
            "max_height": null,
            "max_width": null,
            "min_height": null,
            "min_width": null,
            "object_fit": null,
            "object_position": null,
            "order": null,
            "overflow": null,
            "overflow_x": null,
            "overflow_y": null,
            "padding": null,
            "right": null,
            "top": null,
            "visibility": null,
            "width": null
          }
        },
        "8f8ec2aa4c2f441e8f12f31f6c90271a": {
          "model_module": "@jupyter-widgets/controls",
          "model_name": "ProgressStyleModel",
          "state": {
            "_model_module": "@jupyter-widgets/controls",
            "_model_module_version": "1.5.0",
            "_model_name": "ProgressStyleModel",
            "_view_count": null,
            "_view_module": "@jupyter-widgets/base",
            "_view_module_version": "1.2.0",
            "_view_name": "StyleView",
            "bar_color": null,
            "description_width": "initial"
          }
        },
        "5ff4cc34195046bea8c5d0bbdc4608a5": {
          "model_module": "@jupyter-widgets/base",
          "model_name": "LayoutModel",
          "state": {
            "_model_module": "@jupyter-widgets/base",
            "_model_module_version": "1.2.0",
            "_model_name": "LayoutModel",
            "_view_count": null,
            "_view_module": "@jupyter-widgets/base",
            "_view_module_version": "1.2.0",
            "_view_name": "LayoutView",
            "align_content": null,
            "align_items": null,
            "align_self": null,
            "border": null,
            "bottom": null,
            "display": null,
            "flex": null,
            "flex_flow": null,
            "grid_area": null,
            "grid_auto_columns": null,
            "grid_auto_flow": null,
            "grid_auto_rows": null,
            "grid_column": null,
            "grid_gap": null,
            "grid_row": null,
            "grid_template_areas": null,
            "grid_template_columns": null,
            "grid_template_rows": null,
            "height": null,
            "justify_content": null,
            "justify_items": null,
            "left": null,
            "margin": null,
            "max_height": null,
            "max_width": null,
            "min_height": null,
            "min_width": null,
            "object_fit": null,
            "object_position": null,
            "order": null,
            "overflow": null,
            "overflow_x": null,
            "overflow_y": null,
            "padding": null,
            "right": null,
            "top": null,
            "visibility": null,
            "width": null
          }
        },
        "443a0f0b08884a42a6c3c59b91f020a5": {
          "model_module": "@jupyter-widgets/controls",
          "model_name": "DescriptionStyleModel",
          "state": {
            "_model_module": "@jupyter-widgets/controls",
            "_model_module_version": "1.5.0",
            "_model_name": "DescriptionStyleModel",
            "_view_count": null,
            "_view_module": "@jupyter-widgets/base",
            "_view_module_version": "1.2.0",
            "_view_name": "StyleView",
            "description_width": ""
          }
        },
        "c14a7b09b5ec47209d4a398469fe2cb2": {
          "model_module": "@jupyter-widgets/controls",
          "model_name": "HBoxModel",
          "state": {
            "_dom_classes": [],
            "_model_module": "@jupyter-widgets/controls",
            "_model_module_version": "1.5.0",
            "_model_name": "HBoxModel",
            "_view_count": null,
            "_view_module": "@jupyter-widgets/controls",
            "_view_module_version": "1.5.0",
            "_view_name": "HBoxView",
            "box_style": "",
            "children": [
              "IPY_MODEL_a7df5d93e5e14f10ba4a23cc015a2be5",
              "IPY_MODEL_c9a61c6a576c4092a7cd4d788e1daf1b"
            ],
            "layout": "IPY_MODEL_e0a8af93ffac414d905869de392553a9"
          }
        },
        "a7df5d93e5e14f10ba4a23cc015a2be5": {
          "model_module": "@jupyter-widgets/controls",
          "model_name": "FloatProgressModel",
          "state": {
            "_dom_classes": [],
            "_model_module": "@jupyter-widgets/controls",
            "_model_module_version": "1.5.0",
            "_model_name": "FloatProgressModel",
            "_view_count": null,
            "_view_module": "@jupyter-widgets/controls",
            "_view_module_version": "1.5.0",
            "_view_name": "ProgressView",
            "bar_style": "success",
            "description": "Dl Size...: 100%",
            "description_tooltip": null,
            "layout": "IPY_MODEL_f0aa8a5b22df497aab62874a209cb07c",
            "max": 1,
            "min": 0,
            "orientation": "horizontal",
            "style": "IPY_MODEL_38f74623b17e41499608fa953a411da1",
            "value": 1
          }
        },
        "c9a61c6a576c4092a7cd4d788e1daf1b": {
          "model_module": "@jupyter-widgets/controls",
          "model_name": "HTMLModel",
          "state": {
            "_dom_classes": [],
            "_model_module": "@jupyter-widgets/controls",
            "_model_module_version": "1.5.0",
            "_model_name": "HTMLModel",
            "_view_count": null,
            "_view_module": "@jupyter-widgets/controls",
            "_view_module_version": "1.5.0",
            "_view_name": "HTMLView",
            "description": "",
            "description_tooltip": null,
            "layout": "IPY_MODEL_9069ec817f224c259e119e22f0be1e7a",
            "placeholder": "​",
            "style": "IPY_MODEL_5d9c3068c8604915a5eeb7aa9b51d962",
            "value": " 80/80 [00:01&lt;00:00, 46.86 MiB/s]"
          }
        },
        "e0a8af93ffac414d905869de392553a9": {
          "model_module": "@jupyter-widgets/base",
          "model_name": "LayoutModel",
          "state": {
            "_model_module": "@jupyter-widgets/base",
            "_model_module_version": "1.2.0",
            "_model_name": "LayoutModel",
            "_view_count": null,
            "_view_module": "@jupyter-widgets/base",
            "_view_module_version": "1.2.0",
            "_view_name": "LayoutView",
            "align_content": null,
            "align_items": null,
            "align_self": null,
            "border": null,
            "bottom": null,
            "display": null,
            "flex": null,
            "flex_flow": null,
            "grid_area": null,
            "grid_auto_columns": null,
            "grid_auto_flow": null,
            "grid_auto_rows": null,
            "grid_column": null,
            "grid_gap": null,
            "grid_row": null,
            "grid_template_areas": null,
            "grid_template_columns": null,
            "grid_template_rows": null,
            "height": null,
            "justify_content": null,
            "justify_items": null,
            "left": null,
            "margin": null,
            "max_height": null,
            "max_width": null,
            "min_height": null,
            "min_width": null,
            "object_fit": null,
            "object_position": null,
            "order": null,
            "overflow": null,
            "overflow_x": null,
            "overflow_y": null,
            "padding": null,
            "right": null,
            "top": null,
            "visibility": null,
            "width": null
          }
        },
        "f0aa8a5b22df497aab62874a209cb07c": {
          "model_module": "@jupyter-widgets/base",
          "model_name": "LayoutModel",
          "state": {
            "_model_module": "@jupyter-widgets/base",
            "_model_module_version": "1.2.0",
            "_model_name": "LayoutModel",
            "_view_count": null,
            "_view_module": "@jupyter-widgets/base",
            "_view_module_version": "1.2.0",
            "_view_name": "LayoutView",
            "align_content": null,
            "align_items": null,
            "align_self": null,
            "border": null,
            "bottom": null,
            "display": null,
            "flex": null,
            "flex_flow": null,
            "grid_area": null,
            "grid_auto_columns": null,
            "grid_auto_flow": null,
            "grid_auto_rows": null,
            "grid_column": null,
            "grid_gap": null,
            "grid_row": null,
            "grid_template_areas": null,
            "grid_template_columns": null,
            "grid_template_rows": null,
            "height": null,
            "justify_content": null,
            "justify_items": null,
            "left": null,
            "margin": null,
            "max_height": null,
            "max_width": null,
            "min_height": null,
            "min_width": null,
            "object_fit": null,
            "object_position": null,
            "order": null,
            "overflow": null,
            "overflow_x": null,
            "overflow_y": null,
            "padding": null,
            "right": null,
            "top": null,
            "visibility": null,
            "width": null
          }
        },
        "38f74623b17e41499608fa953a411da1": {
          "model_module": "@jupyter-widgets/controls",
          "model_name": "ProgressStyleModel",
          "state": {
            "_model_module": "@jupyter-widgets/controls",
            "_model_module_version": "1.5.0",
            "_model_name": "ProgressStyleModel",
            "_view_count": null,
            "_view_module": "@jupyter-widgets/base",
            "_view_module_version": "1.2.0",
            "_view_name": "StyleView",
            "bar_color": null,
            "description_width": "initial"
          }
        },
        "9069ec817f224c259e119e22f0be1e7a": {
          "model_module": "@jupyter-widgets/base",
          "model_name": "LayoutModel",
          "state": {
            "_model_module": "@jupyter-widgets/base",
            "_model_module_version": "1.2.0",
            "_model_name": "LayoutModel",
            "_view_count": null,
            "_view_module": "@jupyter-widgets/base",
            "_view_module_version": "1.2.0",
            "_view_name": "LayoutView",
            "align_content": null,
            "align_items": null,
            "align_self": null,
            "border": null,
            "bottom": null,
            "display": null,
            "flex": null,
            "flex_flow": null,
            "grid_area": null,
            "grid_auto_columns": null,
            "grid_auto_flow": null,
            "grid_auto_rows": null,
            "grid_column": null,
            "grid_gap": null,
            "grid_row": null,
            "grid_template_areas": null,
            "grid_template_columns": null,
            "grid_template_rows": null,
            "height": null,
            "justify_content": null,
            "justify_items": null,
            "left": null,
            "margin": null,
            "max_height": null,
            "max_width": null,
            "min_height": null,
            "min_width": null,
            "object_fit": null,
            "object_position": null,
            "order": null,
            "overflow": null,
            "overflow_x": null,
            "overflow_y": null,
            "padding": null,
            "right": null,
            "top": null,
            "visibility": null,
            "width": null
          }
        },
        "5d9c3068c8604915a5eeb7aa9b51d962": {
          "model_module": "@jupyter-widgets/controls",
          "model_name": "DescriptionStyleModel",
          "state": {
            "_model_module": "@jupyter-widgets/controls",
            "_model_module_version": "1.5.0",
            "_model_name": "DescriptionStyleModel",
            "_view_count": null,
            "_view_module": "@jupyter-widgets/base",
            "_view_module_version": "1.2.0",
            "_view_name": "StyleView",
            "description_width": ""
          }
        },
        "54e137f8bf084fdcad8240bcb9e2d50c": {
          "model_module": "@jupyter-widgets/controls",
          "model_name": "HBoxModel",
          "state": {
            "_dom_classes": [],
            "_model_module": "@jupyter-widgets/controls",
            "_model_module_version": "1.5.0",
            "_model_name": "HBoxModel",
            "_view_count": null,
            "_view_module": "@jupyter-widgets/controls",
            "_view_module_version": "1.5.0",
            "_view_name": "HBoxView",
            "box_style": "",
            "children": [
              "IPY_MODEL_80e893ec324646c394f309a597dfbdcf",
              "IPY_MODEL_802e27943f1540899e31c173f6942f21"
            ],
            "layout": "IPY_MODEL_bafd7360772e4d7b83a434df1e609e61"
          }
        },
        "80e893ec324646c394f309a597dfbdcf": {
          "model_module": "@jupyter-widgets/controls",
          "model_name": "FloatProgressModel",
          "state": {
            "_dom_classes": [],
            "_model_module": "@jupyter-widgets/controls",
            "_model_module_version": "1.5.0",
            "_model_name": "FloatProgressModel",
            "_view_count": null,
            "_view_module": "@jupyter-widgets/controls",
            "_view_module_version": "1.5.0",
            "_view_name": "ProgressView",
            "bar_style": "info",
            "description": "",
            "description_tooltip": null,
            "layout": "IPY_MODEL_399280aab1b3486aba4c4dbfe5e8597d",
            "max": 1,
            "min": 0,
            "orientation": "horizontal",
            "style": "IPY_MODEL_4bfd655fa37c4ae9ab1b6157561f2452",
            "value": 1
          }
        },
        "802e27943f1540899e31c173f6942f21": {
          "model_module": "@jupyter-widgets/controls",
          "model_name": "HTMLModel",
          "state": {
            "_dom_classes": [],
            "_model_module": "@jupyter-widgets/controls",
            "_model_module_version": "1.5.0",
            "_model_name": "HTMLModel",
            "_view_count": null,
            "_view_module": "@jupyter-widgets/controls",
            "_view_module_version": "1.5.0",
            "_view_name": "HTMLView",
            "description": "",
            "description_tooltip": null,
            "layout": "IPY_MODEL_53006df87e4c4e57acdd156c6f1fff57",
            "placeholder": "​",
            "style": "IPY_MODEL_8766ee94de474dc5b099ffa6317b714b",
            "value": " 25000/0 [00:14&lt;00:00, 3315.76 examples/s]"
          }
        },
        "bafd7360772e4d7b83a434df1e609e61": {
          "model_module": "@jupyter-widgets/base",
          "model_name": "LayoutModel",
          "state": {
            "_model_module": "@jupyter-widgets/base",
            "_model_module_version": "1.2.0",
            "_model_name": "LayoutModel",
            "_view_count": null,
            "_view_module": "@jupyter-widgets/base",
            "_view_module_version": "1.2.0",
            "_view_name": "LayoutView",
            "align_content": null,
            "align_items": null,
            "align_self": null,
            "border": null,
            "bottom": null,
            "display": null,
            "flex": null,
            "flex_flow": null,
            "grid_area": null,
            "grid_auto_columns": null,
            "grid_auto_flow": null,
            "grid_auto_rows": null,
            "grid_column": null,
            "grid_gap": null,
            "grid_row": null,
            "grid_template_areas": null,
            "grid_template_columns": null,
            "grid_template_rows": null,
            "height": null,
            "justify_content": null,
            "justify_items": null,
            "left": null,
            "margin": null,
            "max_height": null,
            "max_width": null,
            "min_height": null,
            "min_width": null,
            "object_fit": null,
            "object_position": null,
            "order": null,
            "overflow": null,
            "overflow_x": null,
            "overflow_y": null,
            "padding": null,
            "right": null,
            "top": null,
            "visibility": null,
            "width": null
          }
        },
        "399280aab1b3486aba4c4dbfe5e8597d": {
          "model_module": "@jupyter-widgets/base",
          "model_name": "LayoutModel",
          "state": {
            "_model_module": "@jupyter-widgets/base",
            "_model_module_version": "1.2.0",
            "_model_name": "LayoutModel",
            "_view_count": null,
            "_view_module": "@jupyter-widgets/base",
            "_view_module_version": "1.2.0",
            "_view_name": "LayoutView",
            "align_content": null,
            "align_items": null,
            "align_self": null,
            "border": null,
            "bottom": null,
            "display": null,
            "flex": null,
            "flex_flow": null,
            "grid_area": null,
            "grid_auto_columns": null,
            "grid_auto_flow": null,
            "grid_auto_rows": null,
            "grid_column": null,
            "grid_gap": null,
            "grid_row": null,
            "grid_template_areas": null,
            "grid_template_columns": null,
            "grid_template_rows": null,
            "height": null,
            "justify_content": null,
            "justify_items": null,
            "left": null,
            "margin": null,
            "max_height": null,
            "max_width": null,
            "min_height": null,
            "min_width": null,
            "object_fit": null,
            "object_position": null,
            "order": null,
            "overflow": null,
            "overflow_x": null,
            "overflow_y": null,
            "padding": null,
            "right": null,
            "top": null,
            "visibility": null,
            "width": null
          }
        },
        "4bfd655fa37c4ae9ab1b6157561f2452": {
          "model_module": "@jupyter-widgets/controls",
          "model_name": "ProgressStyleModel",
          "state": {
            "_model_module": "@jupyter-widgets/controls",
            "_model_module_version": "1.5.0",
            "_model_name": "ProgressStyleModel",
            "_view_count": null,
            "_view_module": "@jupyter-widgets/base",
            "_view_module_version": "1.2.0",
            "_view_name": "StyleView",
            "bar_color": null,
            "description_width": "initial"
          }
        },
        "53006df87e4c4e57acdd156c6f1fff57": {
          "model_module": "@jupyter-widgets/base",
          "model_name": "LayoutModel",
          "state": {
            "_model_module": "@jupyter-widgets/base",
            "_model_module_version": "1.2.0",
            "_model_name": "LayoutModel",
            "_view_count": null,
            "_view_module": "@jupyter-widgets/base",
            "_view_module_version": "1.2.0",
            "_view_name": "LayoutView",
            "align_content": null,
            "align_items": null,
            "align_self": null,
            "border": null,
            "bottom": null,
            "display": null,
            "flex": null,
            "flex_flow": null,
            "grid_area": null,
            "grid_auto_columns": null,
            "grid_auto_flow": null,
            "grid_auto_rows": null,
            "grid_column": null,
            "grid_gap": null,
            "grid_row": null,
            "grid_template_areas": null,
            "grid_template_columns": null,
            "grid_template_rows": null,
            "height": null,
            "justify_content": null,
            "justify_items": null,
            "left": null,
            "margin": null,
            "max_height": null,
            "max_width": null,
            "min_height": null,
            "min_width": null,
            "object_fit": null,
            "object_position": null,
            "order": null,
            "overflow": null,
            "overflow_x": null,
            "overflow_y": null,
            "padding": null,
            "right": null,
            "top": null,
            "visibility": null,
            "width": null
          }
        },
        "8766ee94de474dc5b099ffa6317b714b": {
          "model_module": "@jupyter-widgets/controls",
          "model_name": "DescriptionStyleModel",
          "state": {
            "_model_module": "@jupyter-widgets/controls",
            "_model_module_version": "1.5.0",
            "_model_name": "DescriptionStyleModel",
            "_view_count": null,
            "_view_module": "@jupyter-widgets/base",
            "_view_module_version": "1.2.0",
            "_view_name": "StyleView",
            "description_width": ""
          }
        },
        "39f5c2c35db7465298b8e80ee2c3c6c5": {
          "model_module": "@jupyter-widgets/controls",
          "model_name": "HBoxModel",
          "state": {
            "_dom_classes": [],
            "_model_module": "@jupyter-widgets/controls",
            "_model_module_version": "1.5.0",
            "_model_name": "HBoxModel",
            "_view_count": null,
            "_view_module": "@jupyter-widgets/controls",
            "_view_module_version": "1.5.0",
            "_view_name": "HBoxView",
            "box_style": "",
            "children": [
              "IPY_MODEL_79673ca67b9f49ce9896c6fb3bf18f58",
              "IPY_MODEL_67ad16c093e147f6a784f82fe09380b1"
            ],
            "layout": "IPY_MODEL_425deee88c3c454886db8f6f69b23bbb"
          }
        },
        "79673ca67b9f49ce9896c6fb3bf18f58": {
          "model_module": "@jupyter-widgets/controls",
          "model_name": "FloatProgressModel",
          "state": {
            "_dom_classes": [],
            "_model_module": "@jupyter-widgets/controls",
            "_model_module_version": "1.5.0",
            "_model_name": "FloatProgressModel",
            "_view_count": null,
            "_view_module": "@jupyter-widgets/controls",
            "_view_module_version": "1.5.0",
            "_view_name": "ProgressView",
            "bar_style": "danger",
            "description": " 23%",
            "description_tooltip": null,
            "layout": "IPY_MODEL_3b1503257550437fb73551dca5bb3600",
            "max": 25000,
            "min": 0,
            "orientation": "horizontal",
            "style": "IPY_MODEL_9001774666af4c26a75b607cda1673f0",
            "value": 5715
          }
        },
        "67ad16c093e147f6a784f82fe09380b1": {
          "model_module": "@jupyter-widgets/controls",
          "model_name": "HTMLModel",
          "state": {
            "_dom_classes": [],
            "_model_module": "@jupyter-widgets/controls",
            "_model_module_version": "1.5.0",
            "_model_name": "HTMLModel",
            "_view_count": null,
            "_view_module": "@jupyter-widgets/controls",
            "_view_module_version": "1.5.0",
            "_view_name": "HTMLView",
            "description": "",
            "description_tooltip": null,
            "layout": "IPY_MODEL_e5e5b5f40c144ab1baaa04b54b418bfc",
            "placeholder": "​",
            "style": "IPY_MODEL_81c08484e526414582787970f9930c82",
            "value": " 5715/25000 [00:00&lt;00:00, 57148.96 examples/s]"
          }
        },
        "425deee88c3c454886db8f6f69b23bbb": {
          "model_module": "@jupyter-widgets/base",
          "model_name": "LayoutModel",
          "state": {
            "_model_module": "@jupyter-widgets/base",
            "_model_module_version": "1.2.0",
            "_model_name": "LayoutModel",
            "_view_count": null,
            "_view_module": "@jupyter-widgets/base",
            "_view_module_version": "1.2.0",
            "_view_name": "LayoutView",
            "align_content": null,
            "align_items": null,
            "align_self": null,
            "border": null,
            "bottom": null,
            "display": null,
            "flex": null,
            "flex_flow": null,
            "grid_area": null,
            "grid_auto_columns": null,
            "grid_auto_flow": null,
            "grid_auto_rows": null,
            "grid_column": null,
            "grid_gap": null,
            "grid_row": null,
            "grid_template_areas": null,
            "grid_template_columns": null,
            "grid_template_rows": null,
            "height": null,
            "justify_content": null,
            "justify_items": null,
            "left": null,
            "margin": null,
            "max_height": null,
            "max_width": null,
            "min_height": null,
            "min_width": null,
            "object_fit": null,
            "object_position": null,
            "order": null,
            "overflow": null,
            "overflow_x": null,
            "overflow_y": null,
            "padding": null,
            "right": null,
            "top": null,
            "visibility": null,
            "width": null
          }
        },
        "3b1503257550437fb73551dca5bb3600": {
          "model_module": "@jupyter-widgets/base",
          "model_name": "LayoutModel",
          "state": {
            "_model_module": "@jupyter-widgets/base",
            "_model_module_version": "1.2.0",
            "_model_name": "LayoutModel",
            "_view_count": null,
            "_view_module": "@jupyter-widgets/base",
            "_view_module_version": "1.2.0",
            "_view_name": "LayoutView",
            "align_content": null,
            "align_items": null,
            "align_self": null,
            "border": null,
            "bottom": null,
            "display": null,
            "flex": null,
            "flex_flow": null,
            "grid_area": null,
            "grid_auto_columns": null,
            "grid_auto_flow": null,
            "grid_auto_rows": null,
            "grid_column": null,
            "grid_gap": null,
            "grid_row": null,
            "grid_template_areas": null,
            "grid_template_columns": null,
            "grid_template_rows": null,
            "height": null,
            "justify_content": null,
            "justify_items": null,
            "left": null,
            "margin": null,
            "max_height": null,
            "max_width": null,
            "min_height": null,
            "min_width": null,
            "object_fit": null,
            "object_position": null,
            "order": null,
            "overflow": null,
            "overflow_x": null,
            "overflow_y": null,
            "padding": null,
            "right": null,
            "top": null,
            "visibility": null,
            "width": null
          }
        },
        "9001774666af4c26a75b607cda1673f0": {
          "model_module": "@jupyter-widgets/controls",
          "model_name": "ProgressStyleModel",
          "state": {
            "_model_module": "@jupyter-widgets/controls",
            "_model_module_version": "1.5.0",
            "_model_name": "ProgressStyleModel",
            "_view_count": null,
            "_view_module": "@jupyter-widgets/base",
            "_view_module_version": "1.2.0",
            "_view_name": "StyleView",
            "bar_color": null,
            "description_width": "initial"
          }
        },
        "e5e5b5f40c144ab1baaa04b54b418bfc": {
          "model_module": "@jupyter-widgets/base",
          "model_name": "LayoutModel",
          "state": {
            "_model_module": "@jupyter-widgets/base",
            "_model_module_version": "1.2.0",
            "_model_name": "LayoutModel",
            "_view_count": null,
            "_view_module": "@jupyter-widgets/base",
            "_view_module_version": "1.2.0",
            "_view_name": "LayoutView",
            "align_content": null,
            "align_items": null,
            "align_self": null,
            "border": null,
            "bottom": null,
            "display": null,
            "flex": null,
            "flex_flow": null,
            "grid_area": null,
            "grid_auto_columns": null,
            "grid_auto_flow": null,
            "grid_auto_rows": null,
            "grid_column": null,
            "grid_gap": null,
            "grid_row": null,
            "grid_template_areas": null,
            "grid_template_columns": null,
            "grid_template_rows": null,
            "height": null,
            "justify_content": null,
            "justify_items": null,
            "left": null,
            "margin": null,
            "max_height": null,
            "max_width": null,
            "min_height": null,
            "min_width": null,
            "object_fit": null,
            "object_position": null,
            "order": null,
            "overflow": null,
            "overflow_x": null,
            "overflow_y": null,
            "padding": null,
            "right": null,
            "top": null,
            "visibility": null,
            "width": null
          }
        },
        "81c08484e526414582787970f9930c82": {
          "model_module": "@jupyter-widgets/controls",
          "model_name": "DescriptionStyleModel",
          "state": {
            "_model_module": "@jupyter-widgets/controls",
            "_model_module_version": "1.5.0",
            "_model_name": "DescriptionStyleModel",
            "_view_count": null,
            "_view_module": "@jupyter-widgets/base",
            "_view_module_version": "1.2.0",
            "_view_name": "StyleView",
            "description_width": ""
          }
        },
        "5a07ef0f627d43ada6424a08009f597d": {
          "model_module": "@jupyter-widgets/controls",
          "model_name": "HBoxModel",
          "state": {
            "_dom_classes": [],
            "_model_module": "@jupyter-widgets/controls",
            "_model_module_version": "1.5.0",
            "_model_name": "HBoxModel",
            "_view_count": null,
            "_view_module": "@jupyter-widgets/controls",
            "_view_module_version": "1.5.0",
            "_view_name": "HBoxView",
            "box_style": "",
            "children": [
              "IPY_MODEL_976fc168eae74e58b7f9e06430b3fb9f",
              "IPY_MODEL_4023f1ce315c4242a6180eb1cd1ae9ad"
            ],
            "layout": "IPY_MODEL_ed31db75259c4529b3343a7d939a64d3"
          }
        },
        "976fc168eae74e58b7f9e06430b3fb9f": {
          "model_module": "@jupyter-widgets/controls",
          "model_name": "FloatProgressModel",
          "state": {
            "_dom_classes": [],
            "_model_module": "@jupyter-widgets/controls",
            "_model_module_version": "1.5.0",
            "_model_name": "FloatProgressModel",
            "_view_count": null,
            "_view_module": "@jupyter-widgets/controls",
            "_view_module_version": "1.5.0",
            "_view_name": "ProgressView",
            "bar_style": "info",
            "description": "",
            "description_tooltip": null,
            "layout": "IPY_MODEL_6ab787a8665b4a3b9b2c72e0d8c9daf2",
            "max": 1,
            "min": 0,
            "orientation": "horizontal",
            "style": "IPY_MODEL_4aa03c7d283640d583aa5fcd81d1ca87",
            "value": 1
          }
        },
        "4023f1ce315c4242a6180eb1cd1ae9ad": {
          "model_module": "@jupyter-widgets/controls",
          "model_name": "HTMLModel",
          "state": {
            "_dom_classes": [],
            "_model_module": "@jupyter-widgets/controls",
            "_model_module_version": "1.5.0",
            "_model_name": "HTMLModel",
            "_view_count": null,
            "_view_module": "@jupyter-widgets/controls",
            "_view_module_version": "1.5.0",
            "_view_name": "HTMLView",
            "description": "",
            "description_tooltip": null,
            "layout": "IPY_MODEL_46a0576dc10844da8e9dba927e667988",
            "placeholder": "​",
            "style": "IPY_MODEL_685926d4341b498a8b6f0ed88002165e",
            "value": " 25000/0 [00:14&lt;00:00, 3082.28 examples/s]"
          }
        },
        "ed31db75259c4529b3343a7d939a64d3": {
          "model_module": "@jupyter-widgets/base",
          "model_name": "LayoutModel",
          "state": {
            "_model_module": "@jupyter-widgets/base",
            "_model_module_version": "1.2.0",
            "_model_name": "LayoutModel",
            "_view_count": null,
            "_view_module": "@jupyter-widgets/base",
            "_view_module_version": "1.2.0",
            "_view_name": "LayoutView",
            "align_content": null,
            "align_items": null,
            "align_self": null,
            "border": null,
            "bottom": null,
            "display": null,
            "flex": null,
            "flex_flow": null,
            "grid_area": null,
            "grid_auto_columns": null,
            "grid_auto_flow": null,
            "grid_auto_rows": null,
            "grid_column": null,
            "grid_gap": null,
            "grid_row": null,
            "grid_template_areas": null,
            "grid_template_columns": null,
            "grid_template_rows": null,
            "height": null,
            "justify_content": null,
            "justify_items": null,
            "left": null,
            "margin": null,
            "max_height": null,
            "max_width": null,
            "min_height": null,
            "min_width": null,
            "object_fit": null,
            "object_position": null,
            "order": null,
            "overflow": null,
            "overflow_x": null,
            "overflow_y": null,
            "padding": null,
            "right": null,
            "top": null,
            "visibility": null,
            "width": null
          }
        },
        "6ab787a8665b4a3b9b2c72e0d8c9daf2": {
          "model_module": "@jupyter-widgets/base",
          "model_name": "LayoutModel",
          "state": {
            "_model_module": "@jupyter-widgets/base",
            "_model_module_version": "1.2.0",
            "_model_name": "LayoutModel",
            "_view_count": null,
            "_view_module": "@jupyter-widgets/base",
            "_view_module_version": "1.2.0",
            "_view_name": "LayoutView",
            "align_content": null,
            "align_items": null,
            "align_self": null,
            "border": null,
            "bottom": null,
            "display": null,
            "flex": null,
            "flex_flow": null,
            "grid_area": null,
            "grid_auto_columns": null,
            "grid_auto_flow": null,
            "grid_auto_rows": null,
            "grid_column": null,
            "grid_gap": null,
            "grid_row": null,
            "grid_template_areas": null,
            "grid_template_columns": null,
            "grid_template_rows": null,
            "height": null,
            "justify_content": null,
            "justify_items": null,
            "left": null,
            "margin": null,
            "max_height": null,
            "max_width": null,
            "min_height": null,
            "min_width": null,
            "object_fit": null,
            "object_position": null,
            "order": null,
            "overflow": null,
            "overflow_x": null,
            "overflow_y": null,
            "padding": null,
            "right": null,
            "top": null,
            "visibility": null,
            "width": null
          }
        },
        "4aa03c7d283640d583aa5fcd81d1ca87": {
          "model_module": "@jupyter-widgets/controls",
          "model_name": "ProgressStyleModel",
          "state": {
            "_model_module": "@jupyter-widgets/controls",
            "_model_module_version": "1.5.0",
            "_model_name": "ProgressStyleModel",
            "_view_count": null,
            "_view_module": "@jupyter-widgets/base",
            "_view_module_version": "1.2.0",
            "_view_name": "StyleView",
            "bar_color": null,
            "description_width": "initial"
          }
        },
        "46a0576dc10844da8e9dba927e667988": {
          "model_module": "@jupyter-widgets/base",
          "model_name": "LayoutModel",
          "state": {
            "_model_module": "@jupyter-widgets/base",
            "_model_module_version": "1.2.0",
            "_model_name": "LayoutModel",
            "_view_count": null,
            "_view_module": "@jupyter-widgets/base",
            "_view_module_version": "1.2.0",
            "_view_name": "LayoutView",
            "align_content": null,
            "align_items": null,
            "align_self": null,
            "border": null,
            "bottom": null,
            "display": null,
            "flex": null,
            "flex_flow": null,
            "grid_area": null,
            "grid_auto_columns": null,
            "grid_auto_flow": null,
            "grid_auto_rows": null,
            "grid_column": null,
            "grid_gap": null,
            "grid_row": null,
            "grid_template_areas": null,
            "grid_template_columns": null,
            "grid_template_rows": null,
            "height": null,
            "justify_content": null,
            "justify_items": null,
            "left": null,
            "margin": null,
            "max_height": null,
            "max_width": null,
            "min_height": null,
            "min_width": null,
            "object_fit": null,
            "object_position": null,
            "order": null,
            "overflow": null,
            "overflow_x": null,
            "overflow_y": null,
            "padding": null,
            "right": null,
            "top": null,
            "visibility": null,
            "width": null
          }
        },
        "685926d4341b498a8b6f0ed88002165e": {
          "model_module": "@jupyter-widgets/controls",
          "model_name": "DescriptionStyleModel",
          "state": {
            "_model_module": "@jupyter-widgets/controls",
            "_model_module_version": "1.5.0",
            "_model_name": "DescriptionStyleModel",
            "_view_count": null,
            "_view_module": "@jupyter-widgets/base",
            "_view_module_version": "1.2.0",
            "_view_name": "StyleView",
            "description_width": ""
          }
        },
        "4b3d25ab0d62425285ea4981da799569": {
          "model_module": "@jupyter-widgets/controls",
          "model_name": "HBoxModel",
          "state": {
            "_dom_classes": [],
            "_model_module": "@jupyter-widgets/controls",
            "_model_module_version": "1.5.0",
            "_model_name": "HBoxModel",
            "_view_count": null,
            "_view_module": "@jupyter-widgets/controls",
            "_view_module_version": "1.5.0",
            "_view_name": "HBoxView",
            "box_style": "",
            "children": [
              "IPY_MODEL_ffb5ac5a3178461690d2cef7e117ad05",
              "IPY_MODEL_8003813a579b43feb8c4b75aba439204"
            ],
            "layout": "IPY_MODEL_078d572e20fb4274bca57f1a832477be"
          }
        },
        "ffb5ac5a3178461690d2cef7e117ad05": {
          "model_module": "@jupyter-widgets/controls",
          "model_name": "FloatProgressModel",
          "state": {
            "_dom_classes": [],
            "_model_module": "@jupyter-widgets/controls",
            "_model_module_version": "1.5.0",
            "_model_name": "FloatProgressModel",
            "_view_count": null,
            "_view_module": "@jupyter-widgets/controls",
            "_view_module_version": "1.5.0",
            "_view_name": "ProgressView",
            "bar_style": "danger",
            "description": " 42%",
            "description_tooltip": null,
            "layout": "IPY_MODEL_3c4c30db817a4ebe987fb6c63611312b",
            "max": 25000,
            "min": 0,
            "orientation": "horizontal",
            "style": "IPY_MODEL_018b479a1a3f41b7a7e5b7a662692f38",
            "value": 10614
          }
        },
        "8003813a579b43feb8c4b75aba439204": {
          "model_module": "@jupyter-widgets/controls",
          "model_name": "HTMLModel",
          "state": {
            "_dom_classes": [],
            "_model_module": "@jupyter-widgets/controls",
            "_model_module_version": "1.5.0",
            "_model_name": "HTMLModel",
            "_view_count": null,
            "_view_module": "@jupyter-widgets/controls",
            "_view_module_version": "1.5.0",
            "_view_name": "HTMLView",
            "description": "",
            "description_tooltip": null,
            "layout": "IPY_MODEL_f01144947bce4097ac88717860eb8f04",
            "placeholder": "​",
            "style": "IPY_MODEL_93461debe18b4bde982765b89cecb21f",
            "value": " 10614/25000 [00:00&lt;00:00, 106136.56 examples/s]"
          }
        },
        "078d572e20fb4274bca57f1a832477be": {
          "model_module": "@jupyter-widgets/base",
          "model_name": "LayoutModel",
          "state": {
            "_model_module": "@jupyter-widgets/base",
            "_model_module_version": "1.2.0",
            "_model_name": "LayoutModel",
            "_view_count": null,
            "_view_module": "@jupyter-widgets/base",
            "_view_module_version": "1.2.0",
            "_view_name": "LayoutView",
            "align_content": null,
            "align_items": null,
            "align_self": null,
            "border": null,
            "bottom": null,
            "display": null,
            "flex": null,
            "flex_flow": null,
            "grid_area": null,
            "grid_auto_columns": null,
            "grid_auto_flow": null,
            "grid_auto_rows": null,
            "grid_column": null,
            "grid_gap": null,
            "grid_row": null,
            "grid_template_areas": null,
            "grid_template_columns": null,
            "grid_template_rows": null,
            "height": null,
            "justify_content": null,
            "justify_items": null,
            "left": null,
            "margin": null,
            "max_height": null,
            "max_width": null,
            "min_height": null,
            "min_width": null,
            "object_fit": null,
            "object_position": null,
            "order": null,
            "overflow": null,
            "overflow_x": null,
            "overflow_y": null,
            "padding": null,
            "right": null,
            "top": null,
            "visibility": null,
            "width": null
          }
        },
        "3c4c30db817a4ebe987fb6c63611312b": {
          "model_module": "@jupyter-widgets/base",
          "model_name": "LayoutModel",
          "state": {
            "_model_module": "@jupyter-widgets/base",
            "_model_module_version": "1.2.0",
            "_model_name": "LayoutModel",
            "_view_count": null,
            "_view_module": "@jupyter-widgets/base",
            "_view_module_version": "1.2.0",
            "_view_name": "LayoutView",
            "align_content": null,
            "align_items": null,
            "align_self": null,
            "border": null,
            "bottom": null,
            "display": null,
            "flex": null,
            "flex_flow": null,
            "grid_area": null,
            "grid_auto_columns": null,
            "grid_auto_flow": null,
            "grid_auto_rows": null,
            "grid_column": null,
            "grid_gap": null,
            "grid_row": null,
            "grid_template_areas": null,
            "grid_template_columns": null,
            "grid_template_rows": null,
            "height": null,
            "justify_content": null,
            "justify_items": null,
            "left": null,
            "margin": null,
            "max_height": null,
            "max_width": null,
            "min_height": null,
            "min_width": null,
            "object_fit": null,
            "object_position": null,
            "order": null,
            "overflow": null,
            "overflow_x": null,
            "overflow_y": null,
            "padding": null,
            "right": null,
            "top": null,
            "visibility": null,
            "width": null
          }
        },
        "018b479a1a3f41b7a7e5b7a662692f38": {
          "model_module": "@jupyter-widgets/controls",
          "model_name": "ProgressStyleModel",
          "state": {
            "_model_module": "@jupyter-widgets/controls",
            "_model_module_version": "1.5.0",
            "_model_name": "ProgressStyleModel",
            "_view_count": null,
            "_view_module": "@jupyter-widgets/base",
            "_view_module_version": "1.2.0",
            "_view_name": "StyleView",
            "bar_color": null,
            "description_width": "initial"
          }
        },
        "f01144947bce4097ac88717860eb8f04": {
          "model_module": "@jupyter-widgets/base",
          "model_name": "LayoutModel",
          "state": {
            "_model_module": "@jupyter-widgets/base",
            "_model_module_version": "1.2.0",
            "_model_name": "LayoutModel",
            "_view_count": null,
            "_view_module": "@jupyter-widgets/base",
            "_view_module_version": "1.2.0",
            "_view_name": "LayoutView",
            "align_content": null,
            "align_items": null,
            "align_self": null,
            "border": null,
            "bottom": null,
            "display": null,
            "flex": null,
            "flex_flow": null,
            "grid_area": null,
            "grid_auto_columns": null,
            "grid_auto_flow": null,
            "grid_auto_rows": null,
            "grid_column": null,
            "grid_gap": null,
            "grid_row": null,
            "grid_template_areas": null,
            "grid_template_columns": null,
            "grid_template_rows": null,
            "height": null,
            "justify_content": null,
            "justify_items": null,
            "left": null,
            "margin": null,
            "max_height": null,
            "max_width": null,
            "min_height": null,
            "min_width": null,
            "object_fit": null,
            "object_position": null,
            "order": null,
            "overflow": null,
            "overflow_x": null,
            "overflow_y": null,
            "padding": null,
            "right": null,
            "top": null,
            "visibility": null,
            "width": null
          }
        },
        "93461debe18b4bde982765b89cecb21f": {
          "model_module": "@jupyter-widgets/controls",
          "model_name": "DescriptionStyleModel",
          "state": {
            "_model_module": "@jupyter-widgets/controls",
            "_model_module_version": "1.5.0",
            "_model_name": "DescriptionStyleModel",
            "_view_count": null,
            "_view_module": "@jupyter-widgets/base",
            "_view_module_version": "1.2.0",
            "_view_name": "StyleView",
            "description_width": ""
          }
        },
        "9ac16273d1e8429493097d25703027e7": {
          "model_module": "@jupyter-widgets/controls",
          "model_name": "HBoxModel",
          "state": {
            "_dom_classes": [],
            "_model_module": "@jupyter-widgets/controls",
            "_model_module_version": "1.5.0",
            "_model_name": "HBoxModel",
            "_view_count": null,
            "_view_module": "@jupyter-widgets/controls",
            "_view_module_version": "1.5.0",
            "_view_name": "HBoxView",
            "box_style": "",
            "children": [
              "IPY_MODEL_653a68d45b6541be963442737a187722",
              "IPY_MODEL_aedac741cf334425a0c06d6f22874629"
            ],
            "layout": "IPY_MODEL_53192f8b395945ae8800c0fb0aaac522"
          }
        },
        "653a68d45b6541be963442737a187722": {
          "model_module": "@jupyter-widgets/controls",
          "model_name": "FloatProgressModel",
          "state": {
            "_dom_classes": [],
            "_model_module": "@jupyter-widgets/controls",
            "_model_module_version": "1.5.0",
            "_model_name": "FloatProgressModel",
            "_view_count": null,
            "_view_module": "@jupyter-widgets/controls",
            "_view_module_version": "1.5.0",
            "_view_name": "ProgressView",
            "bar_style": "info",
            "description": "",
            "description_tooltip": null,
            "layout": "IPY_MODEL_a086278c989c43a6bcd84852267f0738",
            "max": 1,
            "min": 0,
            "orientation": "horizontal",
            "style": "IPY_MODEL_5bd614c4dd5747eea9f4fea49e3c041c",
            "value": 1
          }
        },
        "aedac741cf334425a0c06d6f22874629": {
          "model_module": "@jupyter-widgets/controls",
          "model_name": "HTMLModel",
          "state": {
            "_dom_classes": [],
            "_model_module": "@jupyter-widgets/controls",
            "_model_module_version": "1.5.0",
            "_model_name": "HTMLModel",
            "_view_count": null,
            "_view_module": "@jupyter-widgets/controls",
            "_view_module_version": "1.5.0",
            "_view_name": "HTMLView",
            "description": "",
            "description_tooltip": null,
            "layout": "IPY_MODEL_d4016fe8046341738517ac3a0666be6f",
            "placeholder": "​",
            "style": "IPY_MODEL_fe00b459b4d84ce2a57c1c418df1144d",
            "value": " 50000/0 [00:20&lt;00:00, 3117.49 examples/s]"
          }
        },
        "53192f8b395945ae8800c0fb0aaac522": {
          "model_module": "@jupyter-widgets/base",
          "model_name": "LayoutModel",
          "state": {
            "_model_module": "@jupyter-widgets/base",
            "_model_module_version": "1.2.0",
            "_model_name": "LayoutModel",
            "_view_count": null,
            "_view_module": "@jupyter-widgets/base",
            "_view_module_version": "1.2.0",
            "_view_name": "LayoutView",
            "align_content": null,
            "align_items": null,
            "align_self": null,
            "border": null,
            "bottom": null,
            "display": null,
            "flex": null,
            "flex_flow": null,
            "grid_area": null,
            "grid_auto_columns": null,
            "grid_auto_flow": null,
            "grid_auto_rows": null,
            "grid_column": null,
            "grid_gap": null,
            "grid_row": null,
            "grid_template_areas": null,
            "grid_template_columns": null,
            "grid_template_rows": null,
            "height": null,
            "justify_content": null,
            "justify_items": null,
            "left": null,
            "margin": null,
            "max_height": null,
            "max_width": null,
            "min_height": null,
            "min_width": null,
            "object_fit": null,
            "object_position": null,
            "order": null,
            "overflow": null,
            "overflow_x": null,
            "overflow_y": null,
            "padding": null,
            "right": null,
            "top": null,
            "visibility": null,
            "width": null
          }
        },
        "a086278c989c43a6bcd84852267f0738": {
          "model_module": "@jupyter-widgets/base",
          "model_name": "LayoutModel",
          "state": {
            "_model_module": "@jupyter-widgets/base",
            "_model_module_version": "1.2.0",
            "_model_name": "LayoutModel",
            "_view_count": null,
            "_view_module": "@jupyter-widgets/base",
            "_view_module_version": "1.2.0",
            "_view_name": "LayoutView",
            "align_content": null,
            "align_items": null,
            "align_self": null,
            "border": null,
            "bottom": null,
            "display": null,
            "flex": null,
            "flex_flow": null,
            "grid_area": null,
            "grid_auto_columns": null,
            "grid_auto_flow": null,
            "grid_auto_rows": null,
            "grid_column": null,
            "grid_gap": null,
            "grid_row": null,
            "grid_template_areas": null,
            "grid_template_columns": null,
            "grid_template_rows": null,
            "height": null,
            "justify_content": null,
            "justify_items": null,
            "left": null,
            "margin": null,
            "max_height": null,
            "max_width": null,
            "min_height": null,
            "min_width": null,
            "object_fit": null,
            "object_position": null,
            "order": null,
            "overflow": null,
            "overflow_x": null,
            "overflow_y": null,
            "padding": null,
            "right": null,
            "top": null,
            "visibility": null,
            "width": null
          }
        },
        "5bd614c4dd5747eea9f4fea49e3c041c": {
          "model_module": "@jupyter-widgets/controls",
          "model_name": "ProgressStyleModel",
          "state": {
            "_model_module": "@jupyter-widgets/controls",
            "_model_module_version": "1.5.0",
            "_model_name": "ProgressStyleModel",
            "_view_count": null,
            "_view_module": "@jupyter-widgets/base",
            "_view_module_version": "1.2.0",
            "_view_name": "StyleView",
            "bar_color": null,
            "description_width": "initial"
          }
        },
        "d4016fe8046341738517ac3a0666be6f": {
          "model_module": "@jupyter-widgets/base",
          "model_name": "LayoutModel",
          "state": {
            "_model_module": "@jupyter-widgets/base",
            "_model_module_version": "1.2.0",
            "_model_name": "LayoutModel",
            "_view_count": null,
            "_view_module": "@jupyter-widgets/base",
            "_view_module_version": "1.2.0",
            "_view_name": "LayoutView",
            "align_content": null,
            "align_items": null,
            "align_self": null,
            "border": null,
            "bottom": null,
            "display": null,
            "flex": null,
            "flex_flow": null,
            "grid_area": null,
            "grid_auto_columns": null,
            "grid_auto_flow": null,
            "grid_auto_rows": null,
            "grid_column": null,
            "grid_gap": null,
            "grid_row": null,
            "grid_template_areas": null,
            "grid_template_columns": null,
            "grid_template_rows": null,
            "height": null,
            "justify_content": null,
            "justify_items": null,
            "left": null,
            "margin": null,
            "max_height": null,
            "max_width": null,
            "min_height": null,
            "min_width": null,
            "object_fit": null,
            "object_position": null,
            "order": null,
            "overflow": null,
            "overflow_x": null,
            "overflow_y": null,
            "padding": null,
            "right": null,
            "top": null,
            "visibility": null,
            "width": null
          }
        },
        "fe00b459b4d84ce2a57c1c418df1144d": {
          "model_module": "@jupyter-widgets/controls",
          "model_name": "DescriptionStyleModel",
          "state": {
            "_model_module": "@jupyter-widgets/controls",
            "_model_module_version": "1.5.0",
            "_model_name": "DescriptionStyleModel",
            "_view_count": null,
            "_view_module": "@jupyter-widgets/base",
            "_view_module_version": "1.2.0",
            "_view_name": "StyleView",
            "description_width": ""
          }
        },
        "960515065dab4b1b946f32d28cdf632e": {
          "model_module": "@jupyter-widgets/controls",
          "model_name": "HBoxModel",
          "state": {
            "_dom_classes": [],
            "_model_module": "@jupyter-widgets/controls",
            "_model_module_version": "1.5.0",
            "_model_name": "HBoxModel",
            "_view_count": null,
            "_view_module": "@jupyter-widgets/controls",
            "_view_module_version": "1.5.0",
            "_view_name": "HBoxView",
            "box_style": "",
            "children": [
              "IPY_MODEL_e6164cbbd8f54fa89125db0b2265ae30",
              "IPY_MODEL_a436f178daf5460090f6ee7b5d90cbda"
            ],
            "layout": "IPY_MODEL_552d7529b4ba474f878c1b815b648640"
          }
        },
        "e6164cbbd8f54fa89125db0b2265ae30": {
          "model_module": "@jupyter-widgets/controls",
          "model_name": "FloatProgressModel",
          "state": {
            "_dom_classes": [],
            "_model_module": "@jupyter-widgets/controls",
            "_model_module_version": "1.5.0",
            "_model_name": "FloatProgressModel",
            "_view_count": null,
            "_view_module": "@jupyter-widgets/controls",
            "_view_module_version": "1.5.0",
            "_view_name": "ProgressView",
            "bar_style": "danger",
            "description": " 97%",
            "description_tooltip": null,
            "layout": "IPY_MODEL_d1ba56c2ba0f4d9fb4b6c9210d1436d7",
            "max": 50000,
            "min": 0,
            "orientation": "horizontal",
            "style": "IPY_MODEL_488a42614dea4a5eaf91af5e3740eb26",
            "value": 48331
          }
        },
        "a436f178daf5460090f6ee7b5d90cbda": {
          "model_module": "@jupyter-widgets/controls",
          "model_name": "HTMLModel",
          "state": {
            "_dom_classes": [],
            "_model_module": "@jupyter-widgets/controls",
            "_model_module_version": "1.5.0",
            "_model_name": "HTMLModel",
            "_view_count": null,
            "_view_module": "@jupyter-widgets/controls",
            "_view_module_version": "1.5.0",
            "_view_name": "HTMLView",
            "description": "",
            "description_tooltip": null,
            "layout": "IPY_MODEL_e585d8869f894c73bc0ad59c3b8ee08c",
            "placeholder": "​",
            "style": "IPY_MODEL_f4cb1afca8064d8bb97ad833e0f44017",
            "value": " 48331/50000 [00:00&lt;00:00, 16797.23 examples/s]"
          }
        },
        "552d7529b4ba474f878c1b815b648640": {
          "model_module": "@jupyter-widgets/base",
          "model_name": "LayoutModel",
          "state": {
            "_model_module": "@jupyter-widgets/base",
            "_model_module_version": "1.2.0",
            "_model_name": "LayoutModel",
            "_view_count": null,
            "_view_module": "@jupyter-widgets/base",
            "_view_module_version": "1.2.0",
            "_view_name": "LayoutView",
            "align_content": null,
            "align_items": null,
            "align_self": null,
            "border": null,
            "bottom": null,
            "display": null,
            "flex": null,
            "flex_flow": null,
            "grid_area": null,
            "grid_auto_columns": null,
            "grid_auto_flow": null,
            "grid_auto_rows": null,
            "grid_column": null,
            "grid_gap": null,
            "grid_row": null,
            "grid_template_areas": null,
            "grid_template_columns": null,
            "grid_template_rows": null,
            "height": null,
            "justify_content": null,
            "justify_items": null,
            "left": null,
            "margin": null,
            "max_height": null,
            "max_width": null,
            "min_height": null,
            "min_width": null,
            "object_fit": null,
            "object_position": null,
            "order": null,
            "overflow": null,
            "overflow_x": null,
            "overflow_y": null,
            "padding": null,
            "right": null,
            "top": null,
            "visibility": null,
            "width": null
          }
        },
        "d1ba56c2ba0f4d9fb4b6c9210d1436d7": {
          "model_module": "@jupyter-widgets/base",
          "model_name": "LayoutModel",
          "state": {
            "_model_module": "@jupyter-widgets/base",
            "_model_module_version": "1.2.0",
            "_model_name": "LayoutModel",
            "_view_count": null,
            "_view_module": "@jupyter-widgets/base",
            "_view_module_version": "1.2.0",
            "_view_name": "LayoutView",
            "align_content": null,
            "align_items": null,
            "align_self": null,
            "border": null,
            "bottom": null,
            "display": null,
            "flex": null,
            "flex_flow": null,
            "grid_area": null,
            "grid_auto_columns": null,
            "grid_auto_flow": null,
            "grid_auto_rows": null,
            "grid_column": null,
            "grid_gap": null,
            "grid_row": null,
            "grid_template_areas": null,
            "grid_template_columns": null,
            "grid_template_rows": null,
            "height": null,
            "justify_content": null,
            "justify_items": null,
            "left": null,
            "margin": null,
            "max_height": null,
            "max_width": null,
            "min_height": null,
            "min_width": null,
            "object_fit": null,
            "object_position": null,
            "order": null,
            "overflow": null,
            "overflow_x": null,
            "overflow_y": null,
            "padding": null,
            "right": null,
            "top": null,
            "visibility": null,
            "width": null
          }
        },
        "488a42614dea4a5eaf91af5e3740eb26": {
          "model_module": "@jupyter-widgets/controls",
          "model_name": "ProgressStyleModel",
          "state": {
            "_model_module": "@jupyter-widgets/controls",
            "_model_module_version": "1.5.0",
            "_model_name": "ProgressStyleModel",
            "_view_count": null,
            "_view_module": "@jupyter-widgets/base",
            "_view_module_version": "1.2.0",
            "_view_name": "StyleView",
            "bar_color": null,
            "description_width": "initial"
          }
        },
        "e585d8869f894c73bc0ad59c3b8ee08c": {
          "model_module": "@jupyter-widgets/base",
          "model_name": "LayoutModel",
          "state": {
            "_model_module": "@jupyter-widgets/base",
            "_model_module_version": "1.2.0",
            "_model_name": "LayoutModel",
            "_view_count": null,
            "_view_module": "@jupyter-widgets/base",
            "_view_module_version": "1.2.0",
            "_view_name": "LayoutView",
            "align_content": null,
            "align_items": null,
            "align_self": null,
            "border": null,
            "bottom": null,
            "display": null,
            "flex": null,
            "flex_flow": null,
            "grid_area": null,
            "grid_auto_columns": null,
            "grid_auto_flow": null,
            "grid_auto_rows": null,
            "grid_column": null,
            "grid_gap": null,
            "grid_row": null,
            "grid_template_areas": null,
            "grid_template_columns": null,
            "grid_template_rows": null,
            "height": null,
            "justify_content": null,
            "justify_items": null,
            "left": null,
            "margin": null,
            "max_height": null,
            "max_width": null,
            "min_height": null,
            "min_width": null,
            "object_fit": null,
            "object_position": null,
            "order": null,
            "overflow": null,
            "overflow_x": null,
            "overflow_y": null,
            "padding": null,
            "right": null,
            "top": null,
            "visibility": null,
            "width": null
          }
        },
        "f4cb1afca8064d8bb97ad833e0f44017": {
          "model_module": "@jupyter-widgets/controls",
          "model_name": "DescriptionStyleModel",
          "state": {
            "_model_module": "@jupyter-widgets/controls",
            "_model_module_version": "1.5.0",
            "_model_name": "DescriptionStyleModel",
            "_view_count": null,
            "_view_module": "@jupyter-widgets/base",
            "_view_module_version": "1.2.0",
            "_view_name": "StyleView",
            "description_width": ""
          }
        }
      }
    }
  },
  "cells": [
    {
      "cell_type": "markdown",
      "metadata": {
        "id": "view-in-github",
        "colab_type": "text"
      },
      "source": [
        "<a href=\"https://colab.research.google.com/github/AmazingGrace-D/Text-Classification-with-RNN/blob/main/Text_Classification_with_RNN.ipynb\" target=\"_parent\"><img src=\"https://colab.research.google.com/assets/colab-badge.svg\" alt=\"Open In Colab\"/></a>"
      ]
    },
    {
      "cell_type": "code",
      "metadata": {
        "id": "ZKUs0gxXWVca"
      },
      "source": [
        "!pip install -q tensorflow_datasets"
      ],
      "execution_count": null,
      "outputs": []
    },
    {
      "cell_type": "code",
      "metadata": {
        "id": "P0m3e46pXiEM"
      },
      "source": [
        "import numpy as np\r\n",
        "import matplotlib.pyplot as plt\r\n",
        "\r\n",
        "import tensorflow as tf\r\n",
        "from tensorflow.keras.layers.experimental.preprocessing import TextVectorization\r\n",
        "from tensorflow.keras.layers import Input, Dense\r\n",
        "from tensorflow.keras.layers import Bidirectional, LSTM, Embedding\r\n",
        "import tensorflow_datasets as tfds"
      ],
      "execution_count": null,
      "outputs": []
    },
    {
      "cell_type": "code",
      "metadata": {
        "colab": {
          "base_uri": "https://localhost:8080/",
          "height": 379,
          "referenced_widgets": [
            "9c9e0e41a7ef4aff8d75ed56a03f19f3",
            "0af1f35a80dc478aa5b95160a8651ca6",
            "1d2e3f49a44345f7b79f74816be1ee6f",
            "5cb886f105bc4882b88ebc974c3c490f",
            "5aa5d9698a64467798e913ee03aa489c",
            "8f8ec2aa4c2f441e8f12f31f6c90271a",
            "5ff4cc34195046bea8c5d0bbdc4608a5",
            "443a0f0b08884a42a6c3c59b91f020a5",
            "c14a7b09b5ec47209d4a398469fe2cb2",
            "a7df5d93e5e14f10ba4a23cc015a2be5",
            "c9a61c6a576c4092a7cd4d788e1daf1b",
            "e0a8af93ffac414d905869de392553a9",
            "f0aa8a5b22df497aab62874a209cb07c",
            "38f74623b17e41499608fa953a411da1",
            "9069ec817f224c259e119e22f0be1e7a",
            "5d9c3068c8604915a5eeb7aa9b51d962",
            "54e137f8bf084fdcad8240bcb9e2d50c",
            "80e893ec324646c394f309a597dfbdcf",
            "802e27943f1540899e31c173f6942f21",
            "bafd7360772e4d7b83a434df1e609e61",
            "399280aab1b3486aba4c4dbfe5e8597d",
            "4bfd655fa37c4ae9ab1b6157561f2452",
            "53006df87e4c4e57acdd156c6f1fff57",
            "8766ee94de474dc5b099ffa6317b714b",
            "39f5c2c35db7465298b8e80ee2c3c6c5",
            "79673ca67b9f49ce9896c6fb3bf18f58",
            "67ad16c093e147f6a784f82fe09380b1",
            "425deee88c3c454886db8f6f69b23bbb",
            "3b1503257550437fb73551dca5bb3600",
            "9001774666af4c26a75b607cda1673f0",
            "e5e5b5f40c144ab1baaa04b54b418bfc",
            "81c08484e526414582787970f9930c82",
            "5a07ef0f627d43ada6424a08009f597d",
            "976fc168eae74e58b7f9e06430b3fb9f",
            "4023f1ce315c4242a6180eb1cd1ae9ad",
            "ed31db75259c4529b3343a7d939a64d3",
            "6ab787a8665b4a3b9b2c72e0d8c9daf2",
            "4aa03c7d283640d583aa5fcd81d1ca87",
            "46a0576dc10844da8e9dba927e667988",
            "685926d4341b498a8b6f0ed88002165e",
            "4b3d25ab0d62425285ea4981da799569",
            "ffb5ac5a3178461690d2cef7e117ad05",
            "8003813a579b43feb8c4b75aba439204",
            "078d572e20fb4274bca57f1a832477be",
            "3c4c30db817a4ebe987fb6c63611312b",
            "018b479a1a3f41b7a7e5b7a662692f38",
            "f01144947bce4097ac88717860eb8f04",
            "93461debe18b4bde982765b89cecb21f",
            "9ac16273d1e8429493097d25703027e7",
            "653a68d45b6541be963442737a187722",
            "aedac741cf334425a0c06d6f22874629",
            "53192f8b395945ae8800c0fb0aaac522",
            "a086278c989c43a6bcd84852267f0738",
            "5bd614c4dd5747eea9f4fea49e3c041c",
            "d4016fe8046341738517ac3a0666be6f",
            "fe00b459b4d84ce2a57c1c418df1144d",
            "960515065dab4b1b946f32d28cdf632e",
            "e6164cbbd8f54fa89125db0b2265ae30",
            "a436f178daf5460090f6ee7b5d90cbda",
            "552d7529b4ba474f878c1b815b648640",
            "d1ba56c2ba0f4d9fb4b6c9210d1436d7",
            "488a42614dea4a5eaf91af5e3740eb26",
            "e585d8869f894c73bc0ad59c3b8ee08c",
            "f4cb1afca8064d8bb97ad833e0f44017"
          ]
        },
        "id": "b6aR6KhJio7T",
        "outputId": "231f0255-80eb-4c7a-da95-075f7b96f08b"
      },
      "source": [
        "dataset, info = tfds.load('imdb_reviews', with_info = True, as_supervised = True)"
      ],
      "execution_count": null,
      "outputs": [
        {
          "output_type": "stream",
          "text": [
            "\u001b[1mDownloading and preparing dataset imdb_reviews/plain_text/1.0.0 (download: 80.23 MiB, generated: Unknown size, total: 80.23 MiB) to /root/tensorflow_datasets/imdb_reviews/plain_text/1.0.0...\u001b[0m\n"
          ],
          "name": "stdout"
        },
        {
          "output_type": "display_data",
          "data": {
            "application/vnd.jupyter.widget-view+json": {
              "model_id": "9c9e0e41a7ef4aff8d75ed56a03f19f3",
              "version_major": 2,
              "version_minor": 0
            },
            "text/plain": [
              "HBox(children=(FloatProgress(value=1.0, bar_style='info', description='Dl Completed...', max=1.0, style=Progre…"
            ]
          },
          "metadata": {
            "tags": []
          }
        },
        {
          "output_type": "display_data",
          "data": {
            "application/vnd.jupyter.widget-view+json": {
              "model_id": "c14a7b09b5ec47209d4a398469fe2cb2",
              "version_major": 2,
              "version_minor": 0
            },
            "text/plain": [
              "HBox(children=(FloatProgress(value=1.0, bar_style='info', description='Dl Size...', max=1.0, style=ProgressSty…"
            ]
          },
          "metadata": {
            "tags": []
          }
        },
        {
          "output_type": "stream",
          "text": [
            "\n",
            "\n",
            "\n",
            "\n"
          ],
          "name": "stdout"
        },
        {
          "output_type": "display_data",
          "data": {
            "application/vnd.jupyter.widget-view+json": {
              "model_id": "54e137f8bf084fdcad8240bcb9e2d50c",
              "version_major": 2,
              "version_minor": 0
            },
            "text/plain": [
              "HBox(children=(FloatProgress(value=1.0, bar_style='info', max=1.0), HTML(value='')))"
            ]
          },
          "metadata": {
            "tags": []
          }
        },
        {
          "output_type": "stream",
          "text": [
            "\rShuffling and writing examples to /root/tensorflow_datasets/imdb_reviews/plain_text/1.0.0.incomplete2ANT68/imdb_reviews-train.tfrecord\n"
          ],
          "name": "stdout"
        },
        {
          "output_type": "display_data",
          "data": {
            "application/vnd.jupyter.widget-view+json": {
              "model_id": "39f5c2c35db7465298b8e80ee2c3c6c5",
              "version_major": 2,
              "version_minor": 0
            },
            "text/plain": [
              "HBox(children=(FloatProgress(value=0.0, max=25000.0), HTML(value='')))"
            ]
          },
          "metadata": {
            "tags": []
          }
        },
        {
          "output_type": "stream",
          "text": [
            "\r"
          ],
          "name": "stdout"
        },
        {
          "output_type": "display_data",
          "data": {
            "application/vnd.jupyter.widget-view+json": {
              "model_id": "5a07ef0f627d43ada6424a08009f597d",
              "version_major": 2,
              "version_minor": 0
            },
            "text/plain": [
              "HBox(children=(FloatProgress(value=1.0, bar_style='info', max=1.0), HTML(value='')))"
            ]
          },
          "metadata": {
            "tags": []
          }
        },
        {
          "output_type": "stream",
          "text": [
            "\rShuffling and writing examples to /root/tensorflow_datasets/imdb_reviews/plain_text/1.0.0.incomplete2ANT68/imdb_reviews-test.tfrecord\n"
          ],
          "name": "stdout"
        },
        {
          "output_type": "display_data",
          "data": {
            "application/vnd.jupyter.widget-view+json": {
              "model_id": "4b3d25ab0d62425285ea4981da799569",
              "version_major": 2,
              "version_minor": 0
            },
            "text/plain": [
              "HBox(children=(FloatProgress(value=0.0, max=25000.0), HTML(value='')))"
            ]
          },
          "metadata": {
            "tags": []
          }
        },
        {
          "output_type": "stream",
          "text": [
            "\r"
          ],
          "name": "stdout"
        },
        {
          "output_type": "display_data",
          "data": {
            "application/vnd.jupyter.widget-view+json": {
              "model_id": "9ac16273d1e8429493097d25703027e7",
              "version_major": 2,
              "version_minor": 0
            },
            "text/plain": [
              "HBox(children=(FloatProgress(value=1.0, bar_style='info', max=1.0), HTML(value='')))"
            ]
          },
          "metadata": {
            "tags": []
          }
        },
        {
          "output_type": "stream",
          "text": [
            "\rShuffling and writing examples to /root/tensorflow_datasets/imdb_reviews/plain_text/1.0.0.incomplete2ANT68/imdb_reviews-unsupervised.tfrecord\n"
          ],
          "name": "stdout"
        },
        {
          "output_type": "display_data",
          "data": {
            "application/vnd.jupyter.widget-view+json": {
              "model_id": "960515065dab4b1b946f32d28cdf632e",
              "version_major": 2,
              "version_minor": 0
            },
            "text/plain": [
              "HBox(children=(FloatProgress(value=0.0, max=50000.0), HTML(value='')))"
            ]
          },
          "metadata": {
            "tags": []
          }
        },
        {
          "output_type": "stream",
          "text": [
            "WARNING:absl:Dataset is using deprecated text encoder API which will be removed soon. Please use the plain_text version of the dataset and migrate to `tensorflow_text`.\n"
          ],
          "name": "stderr"
        },
        {
          "output_type": "stream",
          "text": [
            "\u001b[1mDataset imdb_reviews downloaded and prepared to /root/tensorflow_datasets/imdb_reviews/plain_text/1.0.0. Subsequent calls will reuse this data.\u001b[0m\n",
            "\r"
          ],
          "name": "stdout"
        }
      ]
    },
    {
      "cell_type": "code",
      "metadata": {
        "colab": {
          "base_uri": "https://localhost:8080/"
        },
        "id": "Sbhew4ErjM5b",
        "outputId": "3c7b3b74-a56d-42f1-b5e3-98abf5a5574b"
      },
      "source": [
        "dataset"
      ],
      "execution_count": null,
      "outputs": [
        {
          "output_type": "execute_result",
          "data": {
            "text/plain": [
              "{'test': <PrefetchDataset shapes: ((), ()), types: (tf.string, tf.int64)>,\n",
              " 'train': <PrefetchDataset shapes: ((), ()), types: (tf.string, tf.int64)>,\n",
              " 'unsupervised': <PrefetchDataset shapes: ((), ()), types: (tf.string, tf.int64)>}"
            ]
          },
          "metadata": {
            "tags": []
          },
          "execution_count": 4
        }
      ]
    },
    {
      "cell_type": "code",
      "metadata": {
        "colab": {
          "base_uri": "https://localhost:8080/"
        },
        "id": "FcFcH4szmNbL",
        "outputId": "254bcf4a-9b37-4b60-ab74-83fdae6b8d43"
      },
      "source": [
        "dataset['train']"
      ],
      "execution_count": null,
      "outputs": [
        {
          "output_type": "execute_result",
          "data": {
            "text/plain": [
              "<PrefetchDataset shapes: ((), ()), types: (tf.string, tf.int64)>"
            ]
          },
          "metadata": {
            "tags": []
          },
          "execution_count": 5
        }
      ]
    },
    {
      "cell_type": "code",
      "metadata": {
        "id": "5QY_bNELmSkF"
      },
      "source": [
        "train_dataset, test_dataset = dataset['train'], dataset['test']"
      ],
      "execution_count": null,
      "outputs": []
    },
    {
      "cell_type": "code",
      "metadata": {
        "colab": {
          "base_uri": "https://localhost:8080/"
        },
        "id": "C1zCULwTmtTk",
        "outputId": "dfd24fcb-83d1-4a45-d8e4-c56bcfb5cede"
      },
      "source": [
        "for example, label in train_dataset.take(3):\r\n",
        "  print('Text:', example.numpy())\r\n",
        "  print('Label:', label.numpy())"
      ],
      "execution_count": null,
      "outputs": [
        {
          "output_type": "stream",
          "text": [
            "Text: b\"This was an absolutely terrible movie. Don't be lured in by Christopher Walken or Michael Ironside. Both are great actors, but this must simply be their worst role in history. Even their great acting could not redeem this movie's ridiculous storyline. This movie is an early nineties US propaganda piece. The most pathetic scenes were those when the Columbian rebels were making their cases for revolutions. Maria Conchita Alonso appeared phony, and her pseudo-love affair with Walken was nothing but a pathetic emotional plug in a movie that was devoid of any real meaning. I am disappointed that there are movies like this, ruining actor's like Christopher Walken's good name. I could barely sit through it.\"\n",
            "Label: 0\n",
            "Text: b'I have been known to fall asleep during films, but this is usually due to a combination of things including, really tired, being warm and comfortable on the sette and having just eaten a lot. However on this occasion I fell asleep because the film was rubbish. The plot development was constant. Constantly slow and boring. Things seemed to happen, but with no explanation of what was causing them or why. I admit, I may have missed part of the film, but i watched the majority of it and everything just seemed to happen of its own accord without any real concern for anything else. I cant recommend this film at all.'\n",
            "Label: 0\n",
            "Text: b'Mann photographs the Alberta Rocky Mountains in a superb fashion, and Jimmy Stewart and Walter Brennan give enjoyable performances as they always seem to do. <br /><br />But come on Hollywood - a Mountie telling the people of Dawson City, Yukon to elect themselves a marshal (yes a marshal!) and to enforce the law themselves, then gunfighters battling it out on the streets for control of the town? <br /><br />Nothing even remotely resembling that happened on the Canadian side of the border during the Klondike gold rush. Mr. Mann and company appear to have mistaken Dawson City for Deadwood, the Canadian North for the American Wild West.<br /><br />Canadian viewers be prepared for a Reefer Madness type of enjoyable howl with this ludicrous plot, or, to shake your head in disgust.'\n",
            "Label: 0\n"
          ],
          "name": "stdout"
        }
      ]
    },
    {
      "cell_type": "code",
      "metadata": {
        "colab": {
          "base_uri": "https://localhost:8080/"
        },
        "id": "c1a_jQiQnEem",
        "outputId": "363b9a2a-af2d-469f-846b-6395a15f97cf"
      },
      "source": [
        "info"
      ],
      "execution_count": null,
      "outputs": [
        {
          "output_type": "execute_result",
          "data": {
            "text/plain": [
              "tfds.core.DatasetInfo(\n",
              "    name='imdb_reviews',\n",
              "    version=1.0.0,\n",
              "    description='Large Movie Review Dataset.\n",
              "This is a dataset for binary sentiment classification containing substantially more data than previous benchmark datasets. We provide a set of 25,000 highly polar movie reviews for training, and 25,000 for testing. There is additional unlabeled data for use as well.',\n",
              "    homepage='http://ai.stanford.edu/~amaas/data/sentiment/',\n",
              "    features=FeaturesDict({\n",
              "        'label': ClassLabel(shape=(), dtype=tf.int64, num_classes=2),\n",
              "        'text': Text(shape=(), dtype=tf.string),\n",
              "    }),\n",
              "    total_num_examples=100000,\n",
              "    splits={\n",
              "        'test': 25000,\n",
              "        'train': 25000,\n",
              "        'unsupervised': 50000,\n",
              "    },\n",
              "    supervised_keys=('text', 'label'),\n",
              "    citation=\"\"\"@InProceedings{maas-EtAl:2011:ACL-HLT2011,\n",
              "      author    = {Maas, Andrew L.  and  Daly, Raymond E.  and  Pham, Peter T.  and  Huang, Dan  and  Ng, Andrew Y.  and  Potts, Christopher},\n",
              "      title     = {Learning Word Vectors for Sentiment Analysis},\n",
              "      booktitle = {Proceedings of the 49th Annual Meeting of the Association for Computational Linguistics: Human Language Technologies},\n",
              "      month     = {June},\n",
              "      year      = {2011},\n",
              "      address   = {Portland, Oregon, USA},\n",
              "      publisher = {Association for Computational Linguistics},\n",
              "      pages     = {142--150},\n",
              "      url       = {http://www.aclweb.org/anthology/P11-1015}\n",
              "    }\"\"\",\n",
              "    redistribution_info=,\n",
              ")"
            ]
          },
          "metadata": {
            "tags": []
          },
          "execution_count": 8
        }
      ]
    },
    {
      "cell_type": "code",
      "metadata": {
        "colab": {
          "base_uri": "https://localhost:8080/"
        },
        "id": "t7-jK0IhrEXU",
        "outputId": "91756076-4443-455b-e5e7-83ee76036126"
      },
      "source": [
        "train_dataset.element_spec"
      ],
      "execution_count": null,
      "outputs": [
        {
          "output_type": "execute_result",
          "data": {
            "text/plain": [
              "(TensorSpec(shape=(), dtype=tf.string, name=None),\n",
              " TensorSpec(shape=(), dtype=tf.int64, name=None))"
            ]
          },
          "metadata": {
            "tags": []
          },
          "execution_count": 9
        }
      ]
    },
    {
      "cell_type": "code",
      "metadata": {
        "id": "VoRdFWHj2VWo"
      },
      "source": [
        "# dataset = tf.data.Dataset.range(10)\r\n",
        "# dataset = dataset.shuffle(3, reshuffle_each_iteration=False).batch(3).prefetch(tf.data.AUTOTUNE)\r\n",
        "# dataset = dataset.repeat(2)  # doctest: +SKIP\r\n",
        "\r\n",
        "# list(dataset.as_numpy_iterator())"
      ],
      "execution_count": null,
      "outputs": []
    },
    {
      "cell_type": "code",
      "metadata": {
        "id": "XRKacFHirI3y"
      },
      "source": [
        "# Shuffle the dataset and create batches of the data \r\n",
        "\r\n",
        "BUFFER_SIZE = 10000\r\n",
        "BATCH_SIZE = 64"
      ],
      "execution_count": null,
      "outputs": []
    },
    {
      "cell_type": "code",
      "metadata": {
        "id": "x8nFMYpu0sbh"
      },
      "source": [
        "train_dataset = train_dataset.shuffle(1000).batch(BATCH_SIZE)\\\r\n",
        ".prefetch(tf.data.AUTOTUNE)"
      ],
      "execution_count": null,
      "outputs": []
    },
    {
      "cell_type": "code",
      "metadata": {
        "id": "ezUIJOp62iC1"
      },
      "source": [
        "test_dataset = test_dataset.shuffle(BUFFER_SIZE).batch(BATCH_SIZE)\\\r\n",
        ".prefetch(tf.data.AUTOTUNE)"
      ],
      "execution_count": null,
      "outputs": []
    },
    {
      "cell_type": "code",
      "metadata": {
        "colab": {
          "base_uri": "https://localhost:8080/"
        },
        "id": "1zQ2HUfC2g8s",
        "outputId": "260d9443-019b-41ae-e8ea-58a1f0169aa7"
      },
      "source": [
        "for example, label in train_dataset.take(1):\r\n",
        "  print('texts: ', example.numpy()[:3])\r\n",
        "  print()\r\n",
        "  print('labels: ', label.numpy()[:3])\r\n"
      ],
      "execution_count": null,
      "outputs": [
        {
          "output_type": "stream",
          "text": [
            "texts:  [b\"After watching the trailer I was surprised this movie never made it into theaters, so I ordered the BluRay. I had a great time watching it and have to say that this movie is better than some major animation movies out there. Of course, it has its flaws but I can still really recommend it. The animation is well done, very entertaining and unique and the story kept me watching it all the way to the end. Some of the backdrops are just drop-dead gorgeous and you can see the French talent behind it. I thought that Forest Whitaker's performance feels a bit lifeless but that is how the character Lian-Chu is depicted in this movie. So overall, thumbs up, I liked it a lot and I hope it is successful enough for all the studios involved to continue making great movies like this. I would recommend to give it a chance and be surprised how great a movie can be with such a small budget. Hektor alone is worth watching the movie since some of his moments are Stitch-like hilarious.\"\n",
            " b'Get this film if at all possible. You will find a really good performance by Barbara Bach, beautiful cinematography of a stately (and incredibly clean) but creepy old house, and an unexpected virtuoso performance by \\xc2\\x85 \"The Unseen\". I picked up a used copy of this film because I was interested in seeing more of Bach, whom I\\'d just viewed in \"The Spy Who Loved Me.\" I love really classically beautiful actresses and appreciate them even more if they can act a little. So: we start with a nice fresh premise. TV reporter Bach walks out on boyfriend and goes to cover a festival in a California town, Solvang, that celebrates its Swedish ancestry by putting on a big folk festival. She brings along a camerawoman, who happens to be her sister, and another associate. (The late Karen Lamm plays Bach\\'s sister, and if you know who the celebrities are that each of these ladies is married to, it is just too funny watching Bach (Mrs. Ringo Starr) and Lamm (Mrs. Dennis Wilson) going down the street having a sisterly quarrel.)) Anyway \\xc2\\x85 Bach\\'s disgruntled beau follows her to Solvang, as he\\'s not done arguing with her. There\\'s a lot of feeling still between them but she doesn\\'t wanna watch him tear himself up anymore about his down-the-drain football career. The ladies arrive in Solvang to do the assignment for their station, only to find their reservations were given away to someone else. (Maybe to Bach\\'s boyfriend, because think of it \\xc2\\x96 where\\'s he gonna stay?). The gals ask around but there is just nowhere to go. Mistakenly trying to get into an old hotel which now serves only as a museum, they catch the interest of proprietor Mr. Keller (the late Sidney Lassick), who decides to be a gentleman and lodge them at his home, insisting his wife will be happy to receive them. Oh no! Next thing we know Keller is making a whispered phone call to his wife, warning her that company\\'s coming and threatening that she\\'d better play along. Trouble in paradise! The ladies are eager to settle in and get back to Solvang to shoot footage and interview Swedes, but one of the girls doesn\\'t feel good. Bach and Lamm leave her behind, wondering to themselves about Mrs. Keller (played heartbreakingly by pretty Lelia Goldoni) who looks like she just lost her best pal. Speaking of which \\xc2\\x85 under-the-weather Vicki slips off her clothes and gets into a nice hot tub, not realizing that Keller has crept into her room to inspect the keyhole. She hears him, thinks he\\'s come to deliver linen, and calls out her thanks. Lassick did a great job in this scene expressing the anguish of a fat old peeping tom who didn\\'t get a long enough look. After he\\'s left, poor Vicki tumbles into bed for a nap but gets yanked out of it real fast (in a really decent, frightening round of action) by something BIG that has apparently crept up through a grille on the floor \\xc2\\x85 The Unseen! Lamm comes home next (Bach is out finishing an argument with her beau) and can\\'t find anyone in the house. She knocks over a plate of fruit in the kitchen, and, on hands and knees to collect it, her hair and fashionable scarf sway temptingly over the black floor grille \\xc2\\x85 attracting The Unseen again! Well, at about the time poor Lamm is getting her quietus in the kitchen, we do a flashback into Mr. Keller\\'s past and get the full story of what his sick, sadistic background really is and why his wife doesn\\'t smile much. Bach finally gets home and wants to know where her friends are. Meanwhile, Lassick has been apprised of the afternoon\\'s carnage by his weeping wife and decides he can\\'t let Bach off the premises to reveal the secret of his home. He tempts her down into the basement where the last act of the Keller family tragedy finally opens to all of us.<br /><br />I cannot say enough for Stephen Furst, whom I\\'d never seen before; it\\'s obvious that he did his homework for this role, studying the methods of communication and expression of the brain damaged; Bach and Goldoni, each in their diverse way, just give the movie luster. Not only that, but movie winds up with a satisfying resolution. No stupid cheap tricks, eyeball-rolling dialog or pathetically cut corners... A real treat for your collection.'\n",
            " b\"The reason why I say this is because I wrote the screenplay and knew very little about it being made until I was asked to see the film. I wrote it for some producers who sold it on without telling me. Because Alan Dobie was a friend of mine, I got to hear about it. I had only written a first draft so I was understandably worried when I heard that it was on the floor. I asked Peter Collinson, through my agent, whether he might like me to do another draft. I also asked if I could I see my original script because I had lost it. I was told, too late. So I did the only thing I could do under the circumstances and took my name off. I had no idea what they might have done to my screenplay. Then I was invited to see the finished film. I was so impressed that I very quickly asked to have my name put back on. It's a beautifully made piece, from a hurriedly written first draft, I expected to be asked to do much more work on it; perhaps if I had it wouldn't be so good. I would love to see my original script again if anybody knows where it is? I would also love to see the film again, I only saw it once in a little viewing theatre in Soho.\"]\n",
            "\n",
            "labels:  [1 1 1]\n"
          ],
          "name": "stdout"
        }
      ]
    },
    {
      "cell_type": "code",
      "metadata": {
        "id": "tJiKF5vW92Tf"
      },
      "source": [
        "VOCAB_SIZE = 1000\r\n",
        "\r\n",
        "encoder = TextVectorization(max_tokens = VOCAB_SIZE)\r\n",
        " \r\n",
        "encoder.adapt(train_dataset.map(lambda text, label: text)) # returns just the text"
      ],
      "execution_count": null,
      "outputs": []
    },
    {
      "cell_type": "code",
      "metadata": {
        "id": "kMkgRatbAH4-"
      },
      "source": [
        "# x = train_dataset.map(lambda text, label: text)\r\n",
        "# for i in list(x.take(2).as_numpy_iterator()):\r\n",
        "#   print(i[:2])"
      ],
      "execution_count": null,
      "outputs": []
    },
    {
      "cell_type": "code",
      "metadata": {
        "colab": {
          "base_uri": "https://localhost:8080/"
        },
        "id": "9lQTuuTZAFKm",
        "outputId": "d6d02bd4-376f-4fc9-eb36-6a780f6e7cb2"
      },
      "source": [
        "# To make the data indexable\r\n",
        "\r\n",
        "vocab = np.array(encoder.get_vocabulary())\r\n",
        "vocab[:20]"
      ],
      "execution_count": null,
      "outputs": [
        {
          "output_type": "execute_result",
          "data": {
            "text/plain": [
              "array(['', '[UNK]', 'the', 'and', 'a', 'of', 'to', 'is', 'in', 'it', 'i',\n",
              "       'this', 'that', 'br', 'was', 'as', 'for', 'with', 'movie', 'but'],\n",
              "      dtype='<U14')"
            ]
          },
          "metadata": {
            "tags": []
          },
          "execution_count": 17
        }
      ]
    },
    {
      "cell_type": "code",
      "metadata": {
        "colab": {
          "base_uri": "https://localhost:8080/"
        },
        "id": "yEBjKnEGAPWp",
        "outputId": "d3d5d439-76bf-45ee-db72-5251f688fed1"
      },
      "source": [
        "encoded_example = encoder(example)[:3].numpy()\r\n",
        "encoded_example"
      ],
      "execution_count": null,
      "outputs": [
        {
          "output_type": "execute_result",
          "data": {
            "text/plain": [
              "array([[101, 147,   2, ...,   0,   0,   0],\n",
              "       [ 76,  11,  20, ...,  16, 123,   1],\n",
              "       [  2, 275, 134, ...,   0,   0,   0]])"
            ]
          },
          "metadata": {
            "tags": []
          },
          "execution_count": 18
        }
      ]
    },
    {
      "cell_type": "code",
      "metadata": {
        "colab": {
          "base_uri": "https://localhost:8080/"
        },
        "id": "NtDLfOeSB2_h",
        "outputId": "35194d0b-54da-4a2f-ce89-b7ac4924bb93"
      },
      "source": [
        "for n in range(3):\r\n",
        "  print(\"Original: \", example[n].numpy())\r\n",
        "  print(\"Round-trip: \", \" \".join(vocab[encoded_example[n]]))\r\n",
        "  print()\r\n"
      ],
      "execution_count": null,
      "outputs": [
        {
          "output_type": "stream",
          "text": [
            "Original:  b\"After watching the trailer I was surprised this movie never made it into theaters, so I ordered the BluRay. I had a great time watching it and have to say that this movie is better than some major animation movies out there. Of course, it has its flaws but I can still really recommend it. The animation is well done, very entertaining and unique and the story kept me watching it all the way to the end. Some of the backdrops are just drop-dead gorgeous and you can see the French talent behind it. I thought that Forest Whitaker's performance feels a bit lifeless but that is how the character Lian-Chu is depicted in this movie. So overall, thumbs up, I liked it a lot and I hope it is successful enough for all the studios involved to continue making great movies like this. I would recommend to give it a chance and be surprised how great a movie can be with such a small budget. Hektor alone is worth watching the movie since some of his moments are Stitch-like hilarious.\"\n",
            "Round-trip:  after watching the [UNK] i was surprised this movie never made it into [UNK] so i [UNK] the [UNK] i had a great time watching it and have to say that this movie is better than some major animation movies out there of course it has its [UNK] but i can still really recommend it the animation is well done very entertaining and unique and the story kept me watching it all the way to the end some of the [UNK] are just [UNK] [UNK] and you can see the french talent behind it i thought that [UNK] [UNK] performance feels a bit [UNK] but that is how the character [UNK] is [UNK] in this movie so overall [UNK] up i liked it a lot and i hope it is [UNK] enough for all the [UNK] involved to [UNK] making great movies like this i would recommend to give it a chance and be surprised how great a movie can be with such a small budget [UNK] alone is worth watching the movie since some of his moments are [UNK] hilarious                                                                                                                                                                                                                                                                                                                                                                                                                                                                                                                                                                                    \n",
            "\n",
            "Original:  b'Get this film if at all possible. You will find a really good performance by Barbara Bach, beautiful cinematography of a stately (and incredibly clean) but creepy old house, and an unexpected virtuoso performance by \\xc2\\x85 \"The Unseen\". I picked up a used copy of this film because I was interested in seeing more of Bach, whom I\\'d just viewed in \"The Spy Who Loved Me.\" I love really classically beautiful actresses and appreciate them even more if they can act a little. So: we start with a nice fresh premise. TV reporter Bach walks out on boyfriend and goes to cover a festival in a California town, Solvang, that celebrates its Swedish ancestry by putting on a big folk festival. She brings along a camerawoman, who happens to be her sister, and another associate. (The late Karen Lamm plays Bach\\'s sister, and if you know who the celebrities are that each of these ladies is married to, it is just too funny watching Bach (Mrs. Ringo Starr) and Lamm (Mrs. Dennis Wilson) going down the street having a sisterly quarrel.)) Anyway \\xc2\\x85 Bach\\'s disgruntled beau follows her to Solvang, as he\\'s not done arguing with her. There\\'s a lot of feeling still between them but she doesn\\'t wanna watch him tear himself up anymore about his down-the-drain football career. The ladies arrive in Solvang to do the assignment for their station, only to find their reservations were given away to someone else. (Maybe to Bach\\'s boyfriend, because think of it \\xc2\\x96 where\\'s he gonna stay?). The gals ask around but there is just nowhere to go. Mistakenly trying to get into an old hotel which now serves only as a museum, they catch the interest of proprietor Mr. Keller (the late Sidney Lassick), who decides to be a gentleman and lodge them at his home, insisting his wife will be happy to receive them. Oh no! Next thing we know Keller is making a whispered phone call to his wife, warning her that company\\'s coming and threatening that she\\'d better play along. Trouble in paradise! The ladies are eager to settle in and get back to Solvang to shoot footage and interview Swedes, but one of the girls doesn\\'t feel good. Bach and Lamm leave her behind, wondering to themselves about Mrs. Keller (played heartbreakingly by pretty Lelia Goldoni) who looks like she just lost her best pal. Speaking of which \\xc2\\x85 under-the-weather Vicki slips off her clothes and gets into a nice hot tub, not realizing that Keller has crept into her room to inspect the keyhole. She hears him, thinks he\\'s come to deliver linen, and calls out her thanks. Lassick did a great job in this scene expressing the anguish of a fat old peeping tom who didn\\'t get a long enough look. After he\\'s left, poor Vicki tumbles into bed for a nap but gets yanked out of it real fast (in a really decent, frightening round of action) by something BIG that has apparently crept up through a grille on the floor \\xc2\\x85 The Unseen! Lamm comes home next (Bach is out finishing an argument with her beau) and can\\'t find anyone in the house. She knocks over a plate of fruit in the kitchen, and, on hands and knees to collect it, her hair and fashionable scarf sway temptingly over the black floor grille \\xc2\\x85 attracting The Unseen again! Well, at about the time poor Lamm is getting her quietus in the kitchen, we do a flashback into Mr. Keller\\'s past and get the full story of what his sick, sadistic background really is and why his wife doesn\\'t smile much. Bach finally gets home and wants to know where her friends are. Meanwhile, Lassick has been apprised of the afternoon\\'s carnage by his weeping wife and decides he can\\'t let Bach off the premises to reveal the secret of his home. He tempts her down into the basement where the last act of the Keller family tragedy finally opens to all of us.<br /><br />I cannot say enough for Stephen Furst, whom I\\'d never seen before; it\\'s obvious that he did his homework for this role, studying the methods of communication and expression of the brain damaged; Bach and Goldoni, each in their diverse way, just give the movie luster. Not only that, but movie winds up with a satisfying resolution. No stupid cheap tricks, eyeball-rolling dialog or pathetically cut corners... A real treat for your collection.'\n",
            "Round-trip:  get this film if at all possible you will find a really good performance by [UNK] [UNK] beautiful cinematography of a [UNK] and incredibly [UNK] but creepy old house and an [UNK] [UNK] performance by [UNK] the [UNK] i [UNK] up a used [UNK] of this film because i was interested in seeing more of [UNK] whom id just [UNK] in the [UNK] who loved me i love really [UNK] beautiful [UNK] and [UNK] them even more if they can act a little so we start with a nice [UNK] premise tv [UNK] [UNK] [UNK] out on [UNK] and goes to [UNK] a [UNK] in a [UNK] town [UNK] that [UNK] its [UNK] [UNK] by [UNK] on a big [UNK] [UNK] she brings along a [UNK] who happens to be her sister and another [UNK] the late [UNK] [UNK] plays [UNK] sister and if you know who the [UNK] are that each of these [UNK] is [UNK] to it is just too funny watching [UNK] [UNK] [UNK] [UNK] and [UNK] [UNK] [UNK] [UNK] going down the street having a [UNK] [UNK] anyway [UNK] [UNK] [UNK] [UNK] [UNK] her to [UNK] as hes not done [UNK] with her theres a lot of feeling still between them but she doesnt [UNK] watch him [UNK] himself up [UNK] about his [UNK] [UNK] career the [UNK] [UNK] in [UNK] to do the [UNK] for their [UNK] only to find their [UNK] were given away to someone else maybe to [UNK] [UNK] because think of it  [UNK] he [UNK] stay the [UNK] ask around but there is just [UNK] to go [UNK] trying to get into an old [UNK] which now [UNK] only as a [UNK] they [UNK] the interest of [UNK] mr [UNK] the late [UNK] [UNK] who [UNK] to be a [UNK] and [UNK] them at his home [UNK] his wife will be happy to [UNK] them oh no next thing we know [UNK] is making a [UNK] [UNK] call to his wife [UNK] her that [UNK] coming and [UNK] that [UNK] better play along [UNK] in [UNK] the [UNK] are [UNK] to [UNK] in and get back to [UNK] to [UNK] footage and [UNK] [UNK] but one of the girls doesnt feel good [UNK] and [UNK] leave her behind [UNK] to themselves about [UNK] [UNK] played [UNK] by pretty [UNK] [UNK] who looks like she just lost her best [UNK] [UNK] of which [UNK] [UNK] [UNK] [UNK] off her [UNK] and gets into a nice hot [UNK] not [UNK] that [UNK] has [UNK] into her room to [UNK] the [UNK] she [UNK] him [UNK] hes come to [UNK] [UNK] and [UNK] out her [UNK] [UNK] did a great job in this scene [UNK] the [UNK] of a [UNK] old [UNK] tom who didnt get a long enough look after hes left poor [UNK] [UNK] into [UNK] for a [UNK] but gets [UNK] out of it real fast in a really decent [UNK] [UNK] of action by something big that has apparently [UNK] up through a [UNK] on the [UNK] [UNK] the [UNK] [UNK] comes home next [UNK] is out [UNK] an [UNK] with her [UNK] and cant find anyone in the house she [UNK] over a [UNK] of [UNK] in the [UNK] and on hands and [UNK] to [UNK] it her [UNK] and [UNK] [UNK] [UNK] [UNK] over the black [UNK] [UNK] [UNK] [UNK] the [UNK] again well at about the time poor [UNK] is getting her [UNK] in the [UNK] we do a [UNK] into mr [UNK] past and get the full story of what his [UNK] [UNK] background really is and why his wife doesnt [UNK] much [UNK] finally gets home and wants to know where her friends are [UNK] [UNK] has been [UNK] of the [UNK] [UNK] by his [UNK] wife and [UNK] he cant let [UNK] off the [UNK] to [UNK] the secret of his home he [UNK] her down into the [UNK] where the last act of the [UNK] family [UNK] finally [UNK] to all of [UNK] br i cannot say enough for [UNK] [UNK] whom id never seen before its obvious that he did his [UNK] for this role [UNK] the [UNK] of [UNK] and [UNK] of the [UNK] [UNK] [UNK] and [UNK] each in their [UNK] way just give the movie [UNK] not only that but movie [UNK] up with a [UNK] [UNK] no stupid cheap [UNK] [UNK] dialog or [UNK] cut [UNK] a real [UNK] for your [UNK]\n",
            "\n",
            "Original:  b\"The reason why I say this is because I wrote the screenplay and knew very little about it being made until I was asked to see the film. I wrote it for some producers who sold it on without telling me. Because Alan Dobie was a friend of mine, I got to hear about it. I had only written a first draft so I was understandably worried when I heard that it was on the floor. I asked Peter Collinson, through my agent, whether he might like me to do another draft. I also asked if I could I see my original script because I had lost it. I was told, too late. So I did the only thing I could do under the circumstances and took my name off. I had no idea what they might have done to my screenplay. Then I was invited to see the finished film. I was so impressed that I very quickly asked to have my name put back on. It's a beautifully made piece, from a hurriedly written first draft, I expected to be asked to do much more work on it; perhaps if I had it wouldn't be so good. I would love to see my original script again if anybody knows where it is? I would also love to see the film again, I only saw it once in a little viewing theatre in Soho.\"\n",
            "Round-trip:  the reason why i say this is because i [UNK] the screenplay and knew very little about it being made until i was [UNK] to see the film i [UNK] it for some [UNK] who [UNK] it on without [UNK] me because [UNK] [UNK] was a friend of [UNK] i got to hear about it i had only written a first [UNK] so i was [UNK] [UNK] when i heard that it was on the [UNK] i [UNK] peter [UNK] through my [UNK] whether he might like me to do another [UNK] i also [UNK] if i could i see my original script because i had lost it i was told too late so i did the only thing i could do under the [UNK] and took my name off i had no idea what they might have done to my screenplay then i was [UNK] to see the [UNK] film i was so [UNK] that i very quickly [UNK] to have my name put back on its a [UNK] made piece from a [UNK] written first [UNK] i expected to be [UNK] to do much more work on it perhaps if i had it wouldnt be so good i would love to see my original script again if [UNK] knows where it is i would also love to see the film again i only saw it once in a little viewing [UNK] in [UNK]                                                                                                                                                                                                                                                                                                                                                                                                                                                                                                                              \n",
            "\n"
          ],
          "name": "stdout"
        }
      ]
    },
    {
      "cell_type": "code",
      "metadata": {
        "colab": {
          "base_uri": "https://localhost:8080/"
        },
        "id": "YzQ2I4udEk1Z",
        "outputId": "4c704005-7247-4196-fc19-451645e98388"
      },
      "source": [
        "T = len(encoder.get_vocabulary())\r\n",
        "T"
      ],
      "execution_count": null,
      "outputs": [
        {
          "output_type": "execute_result",
          "data": {
            "text/plain": [
              "1000"
            ]
          },
          "metadata": {
            "tags": []
          },
          "execution_count": 20
        }
      ]
    },
    {
      "cell_type": "code",
      "metadata": {
        "colab": {
          "base_uri": "https://localhost:8080/"
        },
        "id": "qR7SqRN6fYYd",
        "outputId": "03c83f28-a717-4b14-bcd4-dfde3e7de264"
      },
      "source": [
        "encoder"
      ],
      "execution_count": null,
      "outputs": [
        {
          "output_type": "execute_result",
          "data": {
            "text/plain": [
              "<tensorflow.python.keras.layers.preprocessing.text_vectorization.TextVectorization at 0x7f4ae7e03fd0>"
            ]
          },
          "metadata": {
            "tags": []
          },
          "execution_count": 21
        }
      ]
    },
    {
      "cell_type": "code",
      "metadata": {
        "id": "jc7zPEL2Ekv6"
      },
      "source": [
        "model = tf.keras.Sequential([\r\n",
        "    encoder,\r\n",
        "    Embedding(len(encoder.get_vocabulary()), 64, mask_zero=True),\r\n",
        "    Bidirectional(LSTM(64,  return_sequences=True)),\r\n",
        "    Bidirectional(LSTM(32)),\r\n",
        "    Dense(64, activation='relu'),\r\n",
        "    tf.keras.layers.Dropout(0.5),\r\n",
        "    Dense(1)\r\n",
        "])"
      ],
      "execution_count": null,
      "outputs": []
    },
    {
      "cell_type": "code",
      "metadata": {
        "id": "IJsVXmRB8htd"
      },
      "source": [
        "model.compile(loss=tf.keras.losses.BinaryCrossentropy(from_logits=True),\r\n",
        "              optimizer=tf.keras.optimizers.Adam(1e-4),\r\n",
        "              metrics=['accuracy'])\r\n"
      ],
      "execution_count": null,
      "outputs": []
    },
    {
      "cell_type": "code",
      "metadata": {
        "colab": {
          "background_save": true,
          "base_uri": "https://localhost:8080/"
        },
        "id": "7xt-K_LO8mVx",
        "outputId": "4f86f69b-c02b-49a6-d1e3-4efbfefd67f0"
      },
      "source": [
        "history = model.fit(train_dataset, epochs=10,\r\n",
        "                    validation_data=test_dataset,\r\n",
        "                    validation_steps=30)\r\n"
      ],
      "execution_count": null,
      "outputs": [
        {
          "output_type": "stream",
          "text": [
            "Epoch 1/10\n",
            "391/391 [==============================] - 1155s 3s/step - loss: 0.6806 - accuracy: 0.5155 - val_loss: 0.4217 - val_accuracy: 0.8094\n",
            "Epoch 2/10\n",
            "391/391 [==============================] - 1123s 3s/step - loss: 0.4090 - accuracy: 0.8188 - val_loss: 0.3751 - val_accuracy: 0.8396\n",
            "Epoch 3/10\n",
            "391/391 [==============================] - 1127s 3s/step - loss: 0.3454 - accuracy: 0.8532 - val_loss: 0.3270 - val_accuracy: 0.8396\n",
            "Epoch 4/10\n",
            "391/391 [==============================] - 1129s 3s/step - loss: 0.3240 - accuracy: 0.8592 - val_loss: 0.3179 - val_accuracy: 0.8578\n",
            "Epoch 5/10\n",
            "391/391 [==============================] - 1129s 3s/step - loss: 0.3138 - accuracy: 0.8668 - val_loss: 0.3368 - val_accuracy: 0.8552\n",
            "Epoch 6/10\n",
            "391/391 [==============================] - 1125s 3s/step - loss: 0.3081 - accuracy: 0.8676 - val_loss: 0.3137 - val_accuracy: 0.8615\n",
            "Epoch 7/10\n",
            "391/391 [==============================] - 1130s 3s/step - loss: 0.3052 - accuracy: 0.8673 - val_loss: 0.3027 - val_accuracy: 0.8594\n",
            "Epoch 8/10\n",
            "391/391 [==============================] - 1118s 3s/step - loss: 0.2995 - accuracy: 0.8725 - val_loss: 0.3212 - val_accuracy: 0.8594\n",
            "Epoch 9/10\n",
            "391/391 [==============================] - 1119s 3s/step - loss: 0.2968 - accuracy: 0.8711 - val_loss: 0.3147 - val_accuracy: 0.8682\n",
            "Epoch 10/10\n",
            "391/391 [==============================] - 1119s 3s/step - loss: 0.2954 - accuracy: 0.8727 - val_loss: 0.3400 - val_accuracy: 0.8703\n"
          ],
          "name": "stdout"
        }
      ]
    },
    {
      "cell_type": "code",
      "metadata": {
        "colab": {
          "background_save": true
        },
        "id": "8x4284mi8tNe",
        "outputId": "709f9014-a748-4768-847f-71de83729477"
      },
      "source": [
        "test_loss, test_acc = model.evaluate(test_dataset)\r\n",
        "\r\n",
        "print('Test Loss: {}'.format(test_loss))\r\n",
        "print('Test Accuracy: {}'.format(test_acc))\r\n"
      ],
      "execution_count": null,
      "outputs": [
        {
          "output_type": "stream",
          "text": [
            "391/391 [==============================] - 225s 573ms/step - loss: 0.3434 - accuracy: 0.8624\n",
            "Test Loss: 0.34335651993751526\n",
            "Test Accuracy: 0.8624399900436401\n"
          ],
          "name": "stdout"
        }
      ]
    },
    {
      "cell_type": "code",
      "metadata": {
        "colab": {
          "background_save": true
        },
        "id": "bx1FI-me8wVA",
        "outputId": "9918f4db-3940-44b3-e3ec-c4fa86775c00"
      },
      "source": [
        "# predict on a sample text.\r\n",
        "\r\n",
        "sample_text = ('The movie was not good. The animation and the graphics '\r\n",
        "                    'were terrible. I would not recommend this movie.')\r\n",
        "predictions = model.predict(np.array([sample_text]))\r\n",
        "print(predictions)\r\n"
      ],
      "execution_count": null,
      "outputs": [
        {
          "output_type": "stream",
          "text": [
            "[[-1.9851784]]\n"
          ],
          "name": "stdout"
        }
      ]
    },
    {
      "cell_type": "code",
      "metadata": {
        "colab": {
          "background_save": true
        },
        "id": "8T4ZozGO8xu9"
      },
      "source": [
        ""
      ],
      "execution_count": null,
      "outputs": []
    }
  ]
}